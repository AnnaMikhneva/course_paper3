{
 "cells": [
  {
   "cell_type": "markdown",
   "id": "4b632f7d-8c14-4ad4-9fc5-5cf16f24b4cb",
   "metadata": {},
   "source": [
    "## Пишем классификатор: попытка №2"
   ]
  },
  {
   "cell_type": "code",
   "execution_count": 7,
   "id": "43f3f2b8-dbf9-4c8c-9a9e-7bfc0545cc3c",
   "metadata": {},
   "outputs": [],
   "source": [
    "from nltk.corpus import stopwords\n",
    "import csv\n",
    "import numpy as np\n",
    "import pandas as pd\n",
    "import nltk\n",
    "from nltk.corpus import wordnet\n",
    "import string\n",
    "from nltk import pos_tag\n",
    "from nltk.corpus import stopwords\n",
    "from nltk.tokenize import WhitespaceTokenizer\n",
    "from nltk.stem import WordNetLemmatizer\n",
    "from sklearn.model_selection import train_test_split\n",
    "from nltk.tokenize import word_tokenize\n",
    "from collections import Counter\n",
    "from sklearn.metrics import confusion_matrix\n",
    "import gensim\n",
    "import numpy as np\n",
    "from sklearn.linear_model import LogisticRegression"
   ]
  },
  {
   "cell_type": "code",
   "execution_count": 8,
   "id": "e2dcaed2-95c3-43df-8b10-718e15d78773",
   "metadata": {},
   "outputs": [
    {
     "name": "stderr",
     "output_type": "stream",
     "text": [
      "/tmp/ipykernel_798/710896861.py:1: DtypeWarning: Columns (11) have mixed types. Specify dtype option on import or set low_memory=False.\n",
      "  df_res2 = pd.read_csv('df_res2_modified.csv')\n"
     ]
    }
   ],
   "source": [
    "df_res2 = pd.read_csv('df_res2_modified.csv')"
   ]
  },
  {
   "cell_type": "code",
   "execution_count": 9,
   "id": "5a196c81-47af-474b-b018-ad31d339e9e3",
   "metadata": {},
   "outputs": [
    {
     "name": "stderr",
     "output_type": "stream",
     "text": [
      "/tmp/ipykernel_798/1053174206.py:2: SettingWithCopyWarning: \n",
      "A value is trying to be set on a copy of a slice from a DataFrame.\n",
      "Try using .loc[row_indexer,col_indexer] = value instead\n",
      "\n",
      "See the caveats in the documentation: https://pandas.pydata.org/pandas-docs/stable/user_guide/indexing.html#returning-a-view-versus-a-copy\n",
      "  df_res2['abstract'] = df_res2['abstract'].fillna('')\n"
     ]
    }
   ],
   "source": [
    "df_res2 = df_res2[['id', 'abstract', 'check']]\n",
    "df_res2['abstract'] = df_res2['abstract'].fillna('')"
   ]
  },
  {
   "cell_type": "markdown",
   "id": "c8422e02-33cd-4b1e-bd91-3190aa0feea4",
   "metadata": {},
   "source": [
    "Теперь векторизируем через скаченную предобученную модель FastText"
   ]
  },
  {
   "cell_type": "code",
   "execution_count": 10,
   "id": "4d95e1db-ddd8-450f-a973-367c771b9e41",
   "metadata": {},
   "outputs": [],
   "source": [
    "modell = gensim.models.KeyedVectors.load_word2vec_format('cc.en.300.vec.gz', binary=False)"
   ]
  },
  {
   "cell_type": "code",
   "execution_count": 11,
   "id": "a3a60b4a-6b06-498e-8ec5-15dcef036a9c",
   "metadata": {},
   "outputs": [],
   "source": [
    "def text_to_vector(text):\n",
    "    words = text.split()\n",
    "    vectors = [modell[word] for word in words if word in modell]\n",
    "    if len(vectors) > 0:\n",
    "        return np.mean(vectors, axis=0)\n",
    "    else:\n",
    "        return np.zeros(modell.vector_size)"
   ]
  },
  {
   "cell_type": "code",
   "execution_count": 12,
   "id": "c86922da-c99f-47d8-acc6-fecf9925a1fd",
   "metadata": {},
   "outputs": [],
   "source": [
    "data = df_res2[\"abstract\"]\n",
    "y = df_res2[\"check\"]"
   ]
  },
  {
   "cell_type": "code",
   "execution_count": 13,
   "id": "d2d88302-45d1-4bcf-b3ca-5b99bd20d5e1",
   "metadata": {},
   "outputs": [
    {
     "name": "stderr",
     "output_type": "stream",
     "text": [
      "/tmp/ipykernel_798/1492243799.py:1: VisibleDeprecationWarning: Creating an ndarray from ragged nested sequences (which is a list-or-tuple of lists-or-tuples-or ndarrays with different lengths or shapes) is deprecated. If you meant to do this, you must specify 'dtype=object' when creating the ndarray.\n",
      "  X = np.array([(text, text_to_vector(text)) for text in data])\n"
     ]
    }
   ],
   "source": [
    "X = np.array([(text, text_to_vector(text)) for text in data])\n",
    "y = np.array(y)"
   ]
  },
  {
   "cell_type": "markdown",
   "id": "58dcc074-98b8-4042-b668-fd3fc5e6ac9a",
   "metadata": {},
   "source": [
    "Прогоним через модель логистической регрессии"
   ]
  },
  {
   "cell_type": "code",
   "execution_count": 14,
   "id": "ab2b134f-9b63-4ef0-ba00-196be77fba06",
   "metadata": {},
   "outputs": [],
   "source": [
    "tuple_train, tuple_test, y_train, y_test = train_test_split(X, y, test_size=0.2, random_state=42)"
   ]
  },
  {
   "cell_type": "code",
   "execution_count": 15,
   "id": "07bceab4-78e1-4475-903a-734d4200e351",
   "metadata": {},
   "outputs": [],
   "source": [
    "sentence_train = tuple_train[:, 0]\n",
    "vector_train = tuple_train[:, 1]\n",
    "sentence_test = tuple_test[:, 0]\n",
    "vector_test = tuple_test[:,1]"
   ]
  },
  {
   "cell_type": "code",
   "execution_count": 16,
   "id": "94bdb93f-eba0-4eba-a857-b74b5d1d7ef5",
   "metadata": {},
   "outputs": [],
   "source": [
    "X_train = np.stack(vector_train)\n",
    "X_test = np.stack(vector_test)"
   ]
  },
  {
   "cell_type": "code",
   "execution_count": 17,
   "id": "ab0b88ef-1337-45e8-a004-399aa80483d6",
   "metadata": {},
   "outputs": [
    {
     "name": "stderr",
     "output_type": "stream",
     "text": [
      "/home/anna_mikhneva_/.local/lib/python3.8/site-packages/sklearn/linear_model/_logistic.py:444: ConvergenceWarning: lbfgs failed to converge (status=1):\n",
      "STOP: TOTAL NO. of ITERATIONS REACHED LIMIT.\n",
      "\n",
      "Increase the number of iterations (max_iter) or scale the data as shown in:\n",
      "    https://scikit-learn.org/stable/modules/preprocessing.html\n",
      "Please also refer to the documentation for alternative solver options:\n",
      "    https://scikit-learn.org/stable/modules/linear_model.html#logistic-regression\n",
      "  n_iter_i = _check_optimize_result(\n"
     ]
    },
    {
     "data": {
      "text/html": [
       "<style>#sk-container-id-1 {color: black;background-color: white;}#sk-container-id-1 pre{padding: 0;}#sk-container-id-1 div.sk-toggleable {background-color: white;}#sk-container-id-1 label.sk-toggleable__label {cursor: pointer;display: block;width: 100%;margin-bottom: 0;padding: 0.3em;box-sizing: border-box;text-align: center;}#sk-container-id-1 label.sk-toggleable__label-arrow:before {content: \"▸\";float: left;margin-right: 0.25em;color: #696969;}#sk-container-id-1 label.sk-toggleable__label-arrow:hover:before {color: black;}#sk-container-id-1 div.sk-estimator:hover label.sk-toggleable__label-arrow:before {color: black;}#sk-container-id-1 div.sk-toggleable__content {max-height: 0;max-width: 0;overflow: hidden;text-align: left;background-color: #f0f8ff;}#sk-container-id-1 div.sk-toggleable__content pre {margin: 0.2em;color: black;border-radius: 0.25em;background-color: #f0f8ff;}#sk-container-id-1 input.sk-toggleable__control:checked~div.sk-toggleable__content {max-height: 200px;max-width: 100%;overflow: auto;}#sk-container-id-1 input.sk-toggleable__control:checked~label.sk-toggleable__label-arrow:before {content: \"▾\";}#sk-container-id-1 div.sk-estimator input.sk-toggleable__control:checked~label.sk-toggleable__label {background-color: #d4ebff;}#sk-container-id-1 div.sk-label input.sk-toggleable__control:checked~label.sk-toggleable__label {background-color: #d4ebff;}#sk-container-id-1 input.sk-hidden--visually {border: 0;clip: rect(1px 1px 1px 1px);clip: rect(1px, 1px, 1px, 1px);height: 1px;margin: -1px;overflow: hidden;padding: 0;position: absolute;width: 1px;}#sk-container-id-1 div.sk-estimator {font-family: monospace;background-color: #f0f8ff;border: 1px dotted black;border-radius: 0.25em;box-sizing: border-box;margin-bottom: 0.5em;}#sk-container-id-1 div.sk-estimator:hover {background-color: #d4ebff;}#sk-container-id-1 div.sk-parallel-item::after {content: \"\";width: 100%;border-bottom: 1px solid gray;flex-grow: 1;}#sk-container-id-1 div.sk-label:hover label.sk-toggleable__label {background-color: #d4ebff;}#sk-container-id-1 div.sk-serial::before {content: \"\";position: absolute;border-left: 1px solid gray;box-sizing: border-box;top: 0;bottom: 0;left: 50%;z-index: 0;}#sk-container-id-1 div.sk-serial {display: flex;flex-direction: column;align-items: center;background-color: white;padding-right: 0.2em;padding-left: 0.2em;position: relative;}#sk-container-id-1 div.sk-item {position: relative;z-index: 1;}#sk-container-id-1 div.sk-parallel {display: flex;align-items: stretch;justify-content: center;background-color: white;position: relative;}#sk-container-id-1 div.sk-item::before, #sk-container-id-1 div.sk-parallel-item::before {content: \"\";position: absolute;border-left: 1px solid gray;box-sizing: border-box;top: 0;bottom: 0;left: 50%;z-index: -1;}#sk-container-id-1 div.sk-parallel-item {display: flex;flex-direction: column;z-index: 1;position: relative;background-color: white;}#sk-container-id-1 div.sk-parallel-item:first-child::after {align-self: flex-end;width: 50%;}#sk-container-id-1 div.sk-parallel-item:last-child::after {align-self: flex-start;width: 50%;}#sk-container-id-1 div.sk-parallel-item:only-child::after {width: 0;}#sk-container-id-1 div.sk-dashed-wrapped {border: 1px dashed gray;margin: 0 0.4em 0.5em 0.4em;box-sizing: border-box;padding-bottom: 0.4em;background-color: white;}#sk-container-id-1 div.sk-label label {font-family: monospace;font-weight: bold;display: inline-block;line-height: 1.2em;}#sk-container-id-1 div.sk-label-container {text-align: center;}#sk-container-id-1 div.sk-container {/* jupyter's `normalize.less` sets `[hidden] { display: none; }` but bootstrap.min.css set `[hidden] { display: none !important; }` so we also need the `!important` here to be able to override the default hidden behavior on the sphinx rendered scikit-learn.org. See: https://github.com/scikit-learn/scikit-learn/issues/21755 */display: inline-block !important;position: relative;}#sk-container-id-1 div.sk-text-repr-fallback {display: none;}</style><div id=\"sk-container-id-1\" class=\"sk-top-container\"><div class=\"sk-text-repr-fallback\"><pre>LogisticRegression()</pre><b>In a Jupyter environment, please rerun this cell to show the HTML representation or trust the notebook. <br />On GitHub, the HTML representation is unable to render, please try loading this page with nbviewer.org.</b></div><div class=\"sk-container\" hidden><div class=\"sk-item\"><div class=\"sk-estimator sk-toggleable\"><input class=\"sk-toggleable__control sk-hidden--visually\" id=\"sk-estimator-id-1\" type=\"checkbox\" checked><label for=\"sk-estimator-id-1\" class=\"sk-toggleable__label sk-toggleable__label-arrow\">LogisticRegression</label><div class=\"sk-toggleable__content\"><pre>LogisticRegression()</pre></div></div></div></div></div>"
      ],
      "text/plain": [
       "LogisticRegression()"
      ]
     },
     "execution_count": 17,
     "metadata": {},
     "output_type": "execute_result"
    }
   ],
   "source": [
    "model = LogisticRegression()\n",
    "model.fit(X_train, y_train)"
   ]
  },
  {
   "cell_type": "code",
   "execution_count": 12,
   "id": "fe98de1e-1d97-4fc8-86e7-df586e7e45c7",
   "metadata": {},
   "outputs": [
    {
     "data": {
      "text/plain": [
       "array([1, 0, 1, 1, 1])"
      ]
     },
     "execution_count": 12,
     "metadata": {},
     "output_type": "execute_result"
    }
   ],
   "source": [
    "model.predict(X_test)[:5]"
   ]
  },
  {
   "cell_type": "code",
   "execution_count": 18,
   "id": "808f8fd3-c95e-485f-bb3b-a38530bae577",
   "metadata": {},
   "outputs": [],
   "source": [
    "y_pred = model.predict(X_test)"
   ]
  },
  {
   "cell_type": "code",
   "execution_count": 8,
   "id": "f0c267bb-e66f-4b23-a180-756e3a681fdc",
   "metadata": {},
   "outputs": [],
   "source": [
    "from sklearn.metrics import accuracy_score, f1_score\n",
    "#accuracy_score(y_test, y_pred)"
   ]
  },
  {
   "cell_type": "code",
   "execution_count": 15,
   "id": "9fd5de35-04f6-4001-9dd1-e1b1e827a5d6",
   "metadata": {},
   "outputs": [
    {
     "data": {
      "text/plain": [
       "0.9625426672255823"
      ]
     },
     "execution_count": 15,
     "metadata": {},
     "output_type": "execute_result"
    }
   ],
   "source": [
    "f1_score(y_test, y_pred)"
   ]
  },
  {
   "cell_type": "code",
   "execution_count": 16,
   "id": "cf3167e5-bab1-4690-b436-b9fd17bd4232",
   "metadata": {},
   "outputs": [
    {
     "name": "stdout",
     "output_type": "stream",
     "text": [
      "[[16267   329]\n",
      " [ 2173 32147]]\n"
     ]
    }
   ],
   "source": [
    "conf_matrix = confusion_matrix(y_test, y_pred)\n",
    "print(conf_matrix)"
   ]
  },
  {
   "cell_type": "code",
   "execution_count": 19,
   "id": "b9490058-8608-4c55-b0eb-3fe41b06b41a",
   "metadata": {},
   "outputs": [],
   "source": [
    "false_positive_indices = sentence_test[(y_pred == 1) & (y_test == 0)] #не удалил, модель сказала удалить\n",
    "false_negative_indices = sentence_test[(y_pred == 0) & (y_test == 1)] #удалил, а модель не удалила"
   ]
  },
  {
   "cell_type": "code",
   "execution_count": 21,
   "id": "36f90bab-ac67-44c2-858e-61a4c971b69f",
   "metadata": {
    "tags": []
   },
   "outputs": [
    {
     "name": "stdout",
     "output_type": "stream",
     "text": [
      "False Positive Examples:\n",
      "                                               Values\n",
      "0   Hittite grammar has been of great interest to ...\n",
      "1   An abstract is not available for this content ...\n",
      "2   We’ve built this digital research platform to ...\n",
      "3   Dr. I. M. Nick enjoys a well-deserved reputati...\n",
      "4   This study examines the syntactical difference...\n",
      "5   IN THE SPRING OF 1954, Vol. I, NO.1 of Names i...\n",
      "6   We’ve built this digital research platform to ...\n",
      "7   We’ve built this digital research platform to ...\n",
      "8   Review article on Grammar of Mandarin . John B...\n",
      "9                                      Editorial Note\n",
      "10  Review of Yanez-Bouza, Nuria. Grammar, Rhetori...\n",
      "11  We’ve built this digital research platform to ...\n",
      "12  Preview this article: Response to Traugott, Pa...\n",
      "13  With this Report (here the n° 2) we present re...\n",
      "14  Article Klaus Zimmermann/Birte Kellermeier-Reh...\n",
      "15                               Short communications\n",
      "16  high tone low tone mid tone falling (high to l...\n",
      "17  This article describes the emergence of the di...\n",
      "18  An abstract is not available for this content ...\n",
      "19  We’ve built this digital research platform to ...\n",
      "\n",
      "False Negative Examples:\n",
      "                                               Values\n",
      "0   In this paper we present an extended descripti...\n",
      "1   Events leading to the selection of Jane Fernan...\n",
      "2   Abstract As parents, teachers, administrators,...\n",
      "3   SPATIAL DISTANCE AND LEXICAL REPLACEMENT L. L....\n",
      "4   As this article aims to establish, the essenti...\n",
      "5   Modern human beings process information symbol...\n",
      "6   The paper examines the way in which the latest...\n",
      "7   Attention plays a role in demonstrative though...\n",
      "8   Objective: Mechanically ventilated patients wi...\n",
      "9   With regard to change in inflection, historica...\n",
      "10  In Memoriam, John (Hans) Z’graggen, 1932–2013 ...\n",
      "11  Data preprocessing is among the principal stag...\n",
      "12  Abstract Taiwanese director Wang Tong’s film S...\n",
      "13  In the Swiss context migrants are dramatically...\n",
      "14  Artikkelissa arvioidaan syntaktisen modulin en...\n",
      "15  Reviewed by: The lexeme in descriptive and the...\n",
      "16  Abstract This paper examines the role of deont...\n",
      "17  Reviewed by: Language, society and power: An i...\n",
      "18  Successful treatment of a voice problem requir...\n",
      "19  Reviewed by: Time in child Inuktitut: A develo...\n"
     ]
    }
   ],
   "source": [
    "false_positive_examples = pd.DataFrame(false_positive_indices, columns=['Values'])\n",
    "false_negative_examples = pd.DataFrame(false_negative_indices, columns=['Values'])\n",
    "print(\"False Positive Examples:\")\n",
    "print(false_positive_examples[:20])\n",
    "\n",
    "print(\"\\nFalse Negative Examples:\")\n",
    "print(false_negative_examples[:20])"
   ]
  },
  {
   "cell_type": "code",
   "execution_count": 22,
   "id": "08e62c9a-d8c4-4dd2-9384-62032a39b643",
   "metadata": {
    "tags": []
   },
   "outputs": [],
   "source": [
    "false_positive_df = pd.DataFrame(columns=[ 'abstract', 'pred', 'true'])\n",
    "false_negative_df = pd.DataFrame(columns=[ 'abstract', 'pred', 'true'])"
   ]
  },
  {
   "cell_type": "code",
   "execution_count": 23,
   "id": "fd3ebab1-461d-40b4-87fd-d8c3ed8ab65b",
   "metadata": {
    "tags": []
   },
   "outputs": [],
   "source": [
    "#for example in false_positive_examples.values:\n",
    "    #false_positive_df = false_positive_df.append({ 'abstract': example, 'pred': 1, 'true': 0}, ignore_index=True)\n",
    "#for example in false_negative_examples.values:\n",
    "    #false_negative_df = false_negative_df.append({ 'abstract': example, 'pred': 0, 'true': 1}, ignore_index=True)"
   ]
  },
  {
   "cell_type": "code",
   "execution_count": 22,
   "id": "27bbcdde-097f-4d39-8d18-3a1a515a7947",
   "metadata": {},
   "outputs": [],
   "source": [
    "false_positive_df.to_csv('false_positive_df2_modified.csv', index=False)\n",
    "false_negative_df.to_csv('false_negative_df2_modified.csv', index=False)"
   ]
  },
  {
   "cell_type": "markdown",
   "id": "d26d639d-b6ef-4026-ba23-0621b6c094c7",
   "metadata": {},
   "source": [
    "Прогоним через модель дерева решений"
   ]
  },
  {
   "cell_type": "code",
   "execution_count": 24,
   "id": "8749c2b8-4081-409b-b0c2-6b15237d4855",
   "metadata": {},
   "outputs": [],
   "source": [
    "from sklearn.tree import DecisionTreeClassifier"
   ]
  },
  {
   "cell_type": "code",
   "execution_count": 25,
   "id": "b5431f24-e474-42b5-ae47-1f01a73e4bbc",
   "metadata": {},
   "outputs": [
    {
     "data": {
      "text/html": [
       "<style>#sk-container-id-2 {color: black;background-color: white;}#sk-container-id-2 pre{padding: 0;}#sk-container-id-2 div.sk-toggleable {background-color: white;}#sk-container-id-2 label.sk-toggleable__label {cursor: pointer;display: block;width: 100%;margin-bottom: 0;padding: 0.3em;box-sizing: border-box;text-align: center;}#sk-container-id-2 label.sk-toggleable__label-arrow:before {content: \"▸\";float: left;margin-right: 0.25em;color: #696969;}#sk-container-id-2 label.sk-toggleable__label-arrow:hover:before {color: black;}#sk-container-id-2 div.sk-estimator:hover label.sk-toggleable__label-arrow:before {color: black;}#sk-container-id-2 div.sk-toggleable__content {max-height: 0;max-width: 0;overflow: hidden;text-align: left;background-color: #f0f8ff;}#sk-container-id-2 div.sk-toggleable__content pre {margin: 0.2em;color: black;border-radius: 0.25em;background-color: #f0f8ff;}#sk-container-id-2 input.sk-toggleable__control:checked~div.sk-toggleable__content {max-height: 200px;max-width: 100%;overflow: auto;}#sk-container-id-2 input.sk-toggleable__control:checked~label.sk-toggleable__label-arrow:before {content: \"▾\";}#sk-container-id-2 div.sk-estimator input.sk-toggleable__control:checked~label.sk-toggleable__label {background-color: #d4ebff;}#sk-container-id-2 div.sk-label input.sk-toggleable__control:checked~label.sk-toggleable__label {background-color: #d4ebff;}#sk-container-id-2 input.sk-hidden--visually {border: 0;clip: rect(1px 1px 1px 1px);clip: rect(1px, 1px, 1px, 1px);height: 1px;margin: -1px;overflow: hidden;padding: 0;position: absolute;width: 1px;}#sk-container-id-2 div.sk-estimator {font-family: monospace;background-color: #f0f8ff;border: 1px dotted black;border-radius: 0.25em;box-sizing: border-box;margin-bottom: 0.5em;}#sk-container-id-2 div.sk-estimator:hover {background-color: #d4ebff;}#sk-container-id-2 div.sk-parallel-item::after {content: \"\";width: 100%;border-bottom: 1px solid gray;flex-grow: 1;}#sk-container-id-2 div.sk-label:hover label.sk-toggleable__label {background-color: #d4ebff;}#sk-container-id-2 div.sk-serial::before {content: \"\";position: absolute;border-left: 1px solid gray;box-sizing: border-box;top: 0;bottom: 0;left: 50%;z-index: 0;}#sk-container-id-2 div.sk-serial {display: flex;flex-direction: column;align-items: center;background-color: white;padding-right: 0.2em;padding-left: 0.2em;position: relative;}#sk-container-id-2 div.sk-item {position: relative;z-index: 1;}#sk-container-id-2 div.sk-parallel {display: flex;align-items: stretch;justify-content: center;background-color: white;position: relative;}#sk-container-id-2 div.sk-item::before, #sk-container-id-2 div.sk-parallel-item::before {content: \"\";position: absolute;border-left: 1px solid gray;box-sizing: border-box;top: 0;bottom: 0;left: 50%;z-index: -1;}#sk-container-id-2 div.sk-parallel-item {display: flex;flex-direction: column;z-index: 1;position: relative;background-color: white;}#sk-container-id-2 div.sk-parallel-item:first-child::after {align-self: flex-end;width: 50%;}#sk-container-id-2 div.sk-parallel-item:last-child::after {align-self: flex-start;width: 50%;}#sk-container-id-2 div.sk-parallel-item:only-child::after {width: 0;}#sk-container-id-2 div.sk-dashed-wrapped {border: 1px dashed gray;margin: 0 0.4em 0.5em 0.4em;box-sizing: border-box;padding-bottom: 0.4em;background-color: white;}#sk-container-id-2 div.sk-label label {font-family: monospace;font-weight: bold;display: inline-block;line-height: 1.2em;}#sk-container-id-2 div.sk-label-container {text-align: center;}#sk-container-id-2 div.sk-container {/* jupyter's `normalize.less` sets `[hidden] { display: none; }` but bootstrap.min.css set `[hidden] { display: none !important; }` so we also need the `!important` here to be able to override the default hidden behavior on the sphinx rendered scikit-learn.org. See: https://github.com/scikit-learn/scikit-learn/issues/21755 */display: inline-block !important;position: relative;}#sk-container-id-2 div.sk-text-repr-fallback {display: none;}</style><div id=\"sk-container-id-2\" class=\"sk-top-container\"><div class=\"sk-text-repr-fallback\"><pre>DecisionTreeClassifier(max_depth=7)</pre><b>In a Jupyter environment, please rerun this cell to show the HTML representation or trust the notebook. <br />On GitHub, the HTML representation is unable to render, please try loading this page with nbviewer.org.</b></div><div class=\"sk-container\" hidden><div class=\"sk-item\"><div class=\"sk-estimator sk-toggleable\"><input class=\"sk-toggleable__control sk-hidden--visually\" id=\"sk-estimator-id-2\" type=\"checkbox\" checked><label for=\"sk-estimator-id-2\" class=\"sk-toggleable__label sk-toggleable__label-arrow\">DecisionTreeClassifier</label><div class=\"sk-toggleable__content\"><pre>DecisionTreeClassifier(max_depth=7)</pre></div></div></div></div></div>"
      ],
      "text/plain": [
       "DecisionTreeClassifier(max_depth=7)"
      ]
     },
     "execution_count": 25,
     "metadata": {},
     "output_type": "execute_result"
    }
   ],
   "source": [
    "model_tree = DecisionTreeClassifier(max_depth=7)\n",
    "\n",
    "model_tree.fit(X_train, y_train)"
   ]
  },
  {
   "cell_type": "code",
   "execution_count": 26,
   "id": "fca71b9b-8cb6-4d5d-89ed-4c97463ab3a5",
   "metadata": {},
   "outputs": [],
   "source": [
    "y_pred = model_tree.predict(X_test)"
   ]
  },
  {
   "cell_type": "code",
   "execution_count": 26,
   "id": "c09e64a3-10c0-4345-9f81-8b2c53f9996e",
   "metadata": {},
   "outputs": [
    {
     "data": {
      "text/plain": [
       "0.9500157121533506"
      ]
     },
     "execution_count": 26,
     "metadata": {},
     "output_type": "execute_result"
    }
   ],
   "source": [
    "accuracy_score(y_test, y_pred)"
   ]
  },
  {
   "cell_type": "code",
   "execution_count": 27,
   "id": "d21eab5a-1388-4e65-8037-edd563817351",
   "metadata": {},
   "outputs": [
    {
     "data": {
      "text/plain": [
       "0.9618743726873699"
      ]
     },
     "execution_count": 27,
     "metadata": {},
     "output_type": "execute_result"
    }
   ],
   "source": [
    "f1_score(y_test, y_pred)"
   ]
  },
  {
   "cell_type": "code",
   "execution_count": 28,
   "id": "64f2c2b6-9a75-49dd-a699-0c6968e8b937",
   "metadata": {},
   "outputs": [
    {
     "name": "stdout",
     "output_type": "stream",
     "text": [
      "[[16267   329]\n",
      " [ 2216 32104]]\n"
     ]
    }
   ],
   "source": [
    "conf_matrix = confusion_matrix(y_test, y_pred)\n",
    "print(conf_matrix)"
   ]
  },
  {
   "cell_type": "code",
   "execution_count": 27,
   "id": "1e1b17e1-21c6-4d58-9014-662162511fa5",
   "metadata": {},
   "outputs": [],
   "source": [
    "false_positive_indices = sentence_test[(y_pred == 1) & (y_test == 0)] #не удалил, модель сказала удалить\n",
    "false_negative_indices = sentence_test[(y_pred == 0) & (y_test == 1)] #удалил, а модель не удалила"
   ]
  },
  {
   "cell_type": "code",
   "execution_count": 29,
   "id": "ae67e8e1-2257-41af-8925-6259f5ae6c69",
   "metadata": {
    "tags": []
   },
   "outputs": [
    {
     "name": "stdout",
     "output_type": "stream",
     "text": [
      "False Positive Examples:\n",
      "                                               Values\n",
      "0   An abstract is not available for this content ...\n",
      "1   We’ve built this digital research platform to ...\n",
      "2   Dr. I. M. Nick enjoys a well-deserved reputati...\n",
      "3   Towards target-like language use: Russian and ...\n",
      "4   Chickasaw is a Muskogean language spoken in so...\n",
      "5   We’ve built this digital research platform to ...\n",
      "6   Spanish is one of the most spoken languages in...\n",
      "7   We’ve built this digital research platform to ...\n",
      "8   Abstract As a phenomenon arising from the inte...\n",
      "9   Review article on Grammar of Mandarin . John B...\n",
      "10  This article is focused on the Latin verb uert...\n",
      "11  The article is an in-depth review of Petar Keh...\n",
      "12  We’ve built this digital research platform to ...\n",
      "13  Preview this article: Response to Traugott, Pa...\n",
      "14  With this Report (here the n° 2) we present re...\n",
      "15  Article Klaus Zimmermann/Birte Kellermeier-Reh...\n",
      "16  Individual and collective memories are semioti...\n",
      "17  high tone low tone mid tone falling (high to l...\n",
      "18  In this paper, I will give a detailed account ...\n",
      "19  The Linguistics of Sign Languages: An Introduc...\n",
      "\n",
      "False Negative Examples:\n",
      "                                               Values\n",
      "0   In this paper we present an extended descripti...\n",
      "1   Events leading to the selection of Jane Fernan...\n",
      "2   Abstract As parents, teachers, administrators,...\n",
      "3   SPATIAL DISTANCE AND LEXICAL REPLACEMENT L. L....\n",
      "4   As this article aims to establish, the essenti...\n",
      "5   Modern human beings process information symbol...\n",
      "6   The paper examines the way in which the latest...\n",
      "7   Attention plays a role in demonstrative though...\n",
      "8   Objective: Mechanically ventilated patients wi...\n",
      "9   关于合成复合词 OVN 和 VON 的结构特征及其合法性问题,学界已从形式句法、韵律语法及句...\n",
      "10  With regard to change in inflection, historica...\n",
      "11  Ressenya sobre el llibre d'Enric Balaguer, Mar...\n",
      "12  In Memoriam, John (Hans) Z’graggen, 1932–2013 ...\n",
      "13  Data preprocessing is among the principal stag...\n",
      "14  Abstract Taiwanese director Wang Tong’s film S...\n",
      "15  In the Swiss context migrants are dramatically...\n",
      "16  Artikkelissa arvioidaan syntaktisen modulin en...\n",
      "17  Reviewed by: The lexeme in descriptive and the...\n",
      "18  Abstract This paper examines the role of deont...\n",
      "19  BOOK NOTICES 237 Recherches sur les constructi...\n"
     ]
    }
   ],
   "source": [
    "false_positive_examples = pd.DataFrame(false_positive_indices, columns=['Values'])\n",
    "false_negative_examples = pd.DataFrame(false_negative_indices, columns=['Values'])\n",
    "print(\"False Positive Examples:\")\n",
    "print(false_positive_examples[:20])\n",
    "\n",
    "print(\"\\nFalse Negative Examples:\")\n",
    "print(false_negative_examples[:20])"
   ]
  },
  {
   "cell_type": "code",
   "execution_count": 30,
   "id": "8f8bca0f-3459-4099-9f22-8da3d82dccd1",
   "metadata": {
    "tags": []
   },
   "outputs": [],
   "source": [
    "false_positive_df = pd.DataFrame(columns=[ 'abstract', 'pred', 'true'])\n",
    "false_negative_df = pd.DataFrame(columns=[ 'abstract', 'pred', 'true'])\n",
    "\n",
    "# for example in false_positive_examples.values:\n",
    "#     false_positive_df = false_positive_df.append({ 'abstract': example, 'pred': 1, 'true': 0}, ignore_index=True)\n",
    "# for example in false_negative_examples.values:\n",
    "#     false_negative_df = false_negative_df.append({ 'abstract': example, 'pred': 0, 'true': 1}, ignore_index=True)"
   ]
  },
  {
   "cell_type": "code",
   "execution_count": 32,
   "id": "7d364f1a-7079-4d2f-98ed-48cca45ea8be",
   "metadata": {},
   "outputs": [],
   "source": [
    "false_positive_df.to_csv('false_positive_tree_modified.csv', index=False)\n",
    "false_negative_df.to_csv('false_negative_tree_modified.csv', index=False)"
   ]
  },
  {
   "cell_type": "markdown",
   "id": "f386eafd-0cd1-4f2e-862f-a4a6313e178f",
   "metadata": {},
   "source": [
    "Прогоним через модель случайного леса"
   ]
  },
  {
   "cell_type": "code",
   "execution_count": 31,
   "id": "fe4769dd-2a33-4064-ad5c-29a19493b46e",
   "metadata": {},
   "outputs": [],
   "source": [
    "from sklearn.ensemble import RandomForestClassifier"
   ]
  },
  {
   "cell_type": "code",
   "execution_count": 32,
   "id": "7c34a16e-ef18-4318-bf68-c514997f58d5",
   "metadata": {},
   "outputs": [
    {
     "data": {
      "text/html": [
       "<style>#sk-container-id-3 {color: black;background-color: white;}#sk-container-id-3 pre{padding: 0;}#sk-container-id-3 div.sk-toggleable {background-color: white;}#sk-container-id-3 label.sk-toggleable__label {cursor: pointer;display: block;width: 100%;margin-bottom: 0;padding: 0.3em;box-sizing: border-box;text-align: center;}#sk-container-id-3 label.sk-toggleable__label-arrow:before {content: \"▸\";float: left;margin-right: 0.25em;color: #696969;}#sk-container-id-3 label.sk-toggleable__label-arrow:hover:before {color: black;}#sk-container-id-3 div.sk-estimator:hover label.sk-toggleable__label-arrow:before {color: black;}#sk-container-id-3 div.sk-toggleable__content {max-height: 0;max-width: 0;overflow: hidden;text-align: left;background-color: #f0f8ff;}#sk-container-id-3 div.sk-toggleable__content pre {margin: 0.2em;color: black;border-radius: 0.25em;background-color: #f0f8ff;}#sk-container-id-3 input.sk-toggleable__control:checked~div.sk-toggleable__content {max-height: 200px;max-width: 100%;overflow: auto;}#sk-container-id-3 input.sk-toggleable__control:checked~label.sk-toggleable__label-arrow:before {content: \"▾\";}#sk-container-id-3 div.sk-estimator input.sk-toggleable__control:checked~label.sk-toggleable__label {background-color: #d4ebff;}#sk-container-id-3 div.sk-label input.sk-toggleable__control:checked~label.sk-toggleable__label {background-color: #d4ebff;}#sk-container-id-3 input.sk-hidden--visually {border: 0;clip: rect(1px 1px 1px 1px);clip: rect(1px, 1px, 1px, 1px);height: 1px;margin: -1px;overflow: hidden;padding: 0;position: absolute;width: 1px;}#sk-container-id-3 div.sk-estimator {font-family: monospace;background-color: #f0f8ff;border: 1px dotted black;border-radius: 0.25em;box-sizing: border-box;margin-bottom: 0.5em;}#sk-container-id-3 div.sk-estimator:hover {background-color: #d4ebff;}#sk-container-id-3 div.sk-parallel-item::after {content: \"\";width: 100%;border-bottom: 1px solid gray;flex-grow: 1;}#sk-container-id-3 div.sk-label:hover label.sk-toggleable__label {background-color: #d4ebff;}#sk-container-id-3 div.sk-serial::before {content: \"\";position: absolute;border-left: 1px solid gray;box-sizing: border-box;top: 0;bottom: 0;left: 50%;z-index: 0;}#sk-container-id-3 div.sk-serial {display: flex;flex-direction: column;align-items: center;background-color: white;padding-right: 0.2em;padding-left: 0.2em;position: relative;}#sk-container-id-3 div.sk-item {position: relative;z-index: 1;}#sk-container-id-3 div.sk-parallel {display: flex;align-items: stretch;justify-content: center;background-color: white;position: relative;}#sk-container-id-3 div.sk-item::before, #sk-container-id-3 div.sk-parallel-item::before {content: \"\";position: absolute;border-left: 1px solid gray;box-sizing: border-box;top: 0;bottom: 0;left: 50%;z-index: -1;}#sk-container-id-3 div.sk-parallel-item {display: flex;flex-direction: column;z-index: 1;position: relative;background-color: white;}#sk-container-id-3 div.sk-parallel-item:first-child::after {align-self: flex-end;width: 50%;}#sk-container-id-3 div.sk-parallel-item:last-child::after {align-self: flex-start;width: 50%;}#sk-container-id-3 div.sk-parallel-item:only-child::after {width: 0;}#sk-container-id-3 div.sk-dashed-wrapped {border: 1px dashed gray;margin: 0 0.4em 0.5em 0.4em;box-sizing: border-box;padding-bottom: 0.4em;background-color: white;}#sk-container-id-3 div.sk-label label {font-family: monospace;font-weight: bold;display: inline-block;line-height: 1.2em;}#sk-container-id-3 div.sk-label-container {text-align: center;}#sk-container-id-3 div.sk-container {/* jupyter's `normalize.less` sets `[hidden] { display: none; }` but bootstrap.min.css set `[hidden] { display: none !important; }` so we also need the `!important` here to be able to override the default hidden behavior on the sphinx rendered scikit-learn.org. See: https://github.com/scikit-learn/scikit-learn/issues/21755 */display: inline-block !important;position: relative;}#sk-container-id-3 div.sk-text-repr-fallback {display: none;}</style><div id=\"sk-container-id-3\" class=\"sk-top-container\"><div class=\"sk-text-repr-fallback\"><pre>RandomForestClassifier(max_depth=5, max_features=7, max_samples=0.2,\n",
       "                       n_estimators=50, random_state=0)</pre><b>In a Jupyter environment, please rerun this cell to show the HTML representation or trust the notebook. <br />On GitHub, the HTML representation is unable to render, please try loading this page with nbviewer.org.</b></div><div class=\"sk-container\" hidden><div class=\"sk-item\"><div class=\"sk-estimator sk-toggleable\"><input class=\"sk-toggleable__control sk-hidden--visually\" id=\"sk-estimator-id-3\" type=\"checkbox\" checked><label for=\"sk-estimator-id-3\" class=\"sk-toggleable__label sk-toggleable__label-arrow\">RandomForestClassifier</label><div class=\"sk-toggleable__content\"><pre>RandomForestClassifier(max_depth=5, max_features=7, max_samples=0.2,\n",
       "                       n_estimators=50, random_state=0)</pre></div></div></div></div></div>"
      ],
      "text/plain": [
       "RandomForestClassifier(max_depth=5, max_features=7, max_samples=0.2,\n",
       "                       n_estimators=50, random_state=0)"
      ]
     },
     "execution_count": 32,
     "metadata": {},
     "output_type": "execute_result"
    }
   ],
   "source": [
    "model_forest = RandomForestClassifier(\n",
    "    n_estimators=50, \n",
    "    max_depth=5,\n",
    "    max_samples=0.2,\n",
    "    max_features=7,\n",
    "    random_state=0, \n",
    ")\n",
    "# путём перебора разных значений параметров, выяснили, что с такими числами работает лучше всего\n",
    "\n",
    "model_forest.fit(X_train, y_train)"
   ]
  },
  {
   "cell_type": "code",
   "execution_count": 33,
   "id": "0e36e077-4e9d-4ce1-ad0c-b8538a77b75d",
   "metadata": {},
   "outputs": [],
   "source": [
    "y_pred = model_forest.predict(X_test)"
   ]
  },
  {
   "cell_type": "code",
   "execution_count": 36,
   "id": "eadd9206-7d13-4cb3-b452-59fe8acf70ea",
   "metadata": {},
   "outputs": [
    {
     "data": {
      "text/plain": [
       "0.9491515437190667"
      ]
     },
     "execution_count": 36,
     "metadata": {},
     "output_type": "execute_result"
    }
   ],
   "source": [
    "accuracy_score(y_test, y_pred)"
   ]
  },
  {
   "cell_type": "code",
   "execution_count": 37,
   "id": "4382d786-e448-4c40-bbc9-564c0edcf12b",
   "metadata": {},
   "outputs": [
    {
     "data": {
      "text/plain": [
       "0.9611535402943868"
      ]
     },
     "execution_count": 37,
     "metadata": {},
     "output_type": "execute_result"
    }
   ],
   "source": [
    "f1_score(y_test, y_pred)"
   ]
  },
  {
   "cell_type": "code",
   "execution_count": 38,
   "id": "a9acf0d8-21c8-44ed-b208-55a13fb78688",
   "metadata": {},
   "outputs": [
    {
     "name": "stdout",
     "output_type": "stream",
     "text": [
      "[[16298   298]\n",
      " [ 2291 32029]]\n"
     ]
    }
   ],
   "source": [
    "conf_matrix = confusion_matrix(y_test, y_pred)\n",
    "print(conf_matrix)"
   ]
  },
  {
   "cell_type": "code",
   "execution_count": 34,
   "id": "ece8c3ea-9060-4129-a5a5-64db45692c1d",
   "metadata": {},
   "outputs": [],
   "source": [
    "false_positive_indices = sentence_test[(y_pred == 1) & (y_test == 0)] #не удалил, модель сказала удалить\n",
    "false_negative_indices = sentence_test[(y_pred == 0) & (y_test == 1)] #удалил, а модель не удалила"
   ]
  },
  {
   "cell_type": "code",
   "execution_count": 36,
   "id": "63d4927b-3718-4e39-a3d6-87302ac519ee",
   "metadata": {
    "tags": []
   },
   "outputs": [
    {
     "name": "stdout",
     "output_type": "stream",
     "text": [
      "False Positive Examples:\n",
      "                                               Values\n",
      "0   An abstract is not available for this content ...\n",
      "1   We’ve built this digital research platform to ...\n",
      "2   Dr. I. M. Nick enjoys a well-deserved reputati...\n",
      "3   This study examines the syntactical difference...\n",
      "4   THE ROOT STRUCTURE OF THE rìša TYPE VERBS Sum...\n",
      "5   We’ve built this digital research platform to ...\n",
      "6   We’ve built this digital research platform to ...\n",
      "7   There exist systematic sound correspondences i...\n",
      "8   Review article on Grammar of Mandarin . John B...\n",
      "9                                      Editorial Note\n",
      "10  Review of Yanez-Bouza, Nuria. Grammar, Rhetori...\n",
      "11  We’ve built this digital research platform to ...\n",
      "12  Book reviewed in this article:\\n\\n\\n\\nNoam Cho...\n",
      "13  Preview this article: Response to Traugott, Pa...\n",
      "14  With this Report (here the n° 2) we present re...\n",
      "15  Article Klaus Zimmermann/Birte Kellermeier-Reh...\n",
      "16                               Short communications\n",
      "17  high tone low tone mid tone falling (high to l...\n",
      "18                                                  –\n",
      "19  1. Introduction 2. Developments in Corpus-base...\n",
      "\n",
      "False Negative Examples:\n",
      "                                               Values\n",
      "0   In this paper we present an extended descripti...\n",
      "1   Events leading to the selection of Jane Fernan...\n",
      "2   Abstract As parents, teachers, administrators,...\n",
      "3   SPATIAL DISTANCE AND LEXICAL REPLACEMENT L. L....\n",
      "4   As this article aims to establish, the essenti...\n",
      "5   Modern human beings process information symbol...\n",
      "6   The paper examines the way in which the latest...\n",
      "7   Attention plays a role in demonstrative though...\n",
      "8   Objective: Mechanically ventilated patients wi...\n",
      "9   With regard to change in inflection, historica...\n",
      "10  In Memoriam, John (Hans) Z’graggen, 1932–2013 ...\n",
      "11  Data preprocessing is among the principal stag...\n",
      "12  Abstract Taiwanese director Wang Tong’s film S...\n",
      "13  In the Swiss context migrants are dramatically...\n",
      "14  Artikkelissa arvioidaan syntaktisen modulin en...\n",
      "15  Reviewed by: The lexeme in descriptive and the...\n",
      "16  Abstract This paper examines the role of deont...\n",
      "17  BOOK NOTICES 237 Recherches sur les constructi...\n",
      "18  Reviewed by: Language, society and power: An i...\n",
      "19  Successful treatment of a voice problem requir...\n"
     ]
    }
   ],
   "source": [
    "false_positive_examples = pd.DataFrame(false_positive_indices, columns=['Values'])\n",
    "false_negative_examples = pd.DataFrame(false_negative_indices, columns=['Values'])\n",
    "print(\"False Positive Examples:\")\n",
    "print(false_positive_examples[:20])\n",
    "\n",
    "print(\"\\nFalse Negative Examples:\")\n",
    "print(false_negative_examples[:20])"
   ]
  },
  {
   "cell_type": "code",
   "execution_count": 37,
   "id": "52ec1e43-b6c4-4121-9d5e-639c21242326",
   "metadata": {
    "tags": []
   },
   "outputs": [],
   "source": [
    "false_positive_df = pd.DataFrame(columns=[ 'abstract', 'pred', 'true'])\n",
    "false_negative_df = pd.DataFrame(columns=[ 'abstract', 'pred', 'true'])\n",
    "\n",
    "# for example in false_positive_examples.values:\n",
    "#     false_positive_df = false_positive_df.append({ 'abstract': example, 'pred': 1, 'true': 0}, ignore_index=True)\n",
    "# for example in false_negative_examples.values:\n",
    "#     false_negative_df = false_negative_df.append({ 'abstract': example, 'pred': 0, 'true': 1}, ignore_index=True)"
   ]
  },
  {
   "cell_type": "code",
   "execution_count": 42,
   "id": "a93387df-d2df-4de1-a9b8-a6ef58991261",
   "metadata": {},
   "outputs": [],
   "source": [
    "false_positive_df.to_csv('false_positive_forest_modified.csv', index=False)\n",
    "false_negative_df.to_csv('false_negative_forest_modified.csv', index=False)"
   ]
  },
  {
   "cell_type": "markdown",
   "id": "c8ca2bf2-2111-4f00-8ad1-f6fddf92ece2",
   "metadata": {},
   "source": [
    "Попробуем векторизировать через TF-IDF и поделить на два кластера через метод K-means"
   ]
  },
  {
   "cell_type": "code",
   "execution_count": 38,
   "id": "135e96fd-e807-48df-bdef-1efe5066fac9",
   "metadata": {},
   "outputs": [],
   "source": [
    "from sklearn.cluster import KMeans\n",
    "from sklearn.feature_extraction.text import TfidfVectorizer"
   ]
  },
  {
   "cell_type": "code",
   "execution_count": 39,
   "id": "900237f3-4d8f-46f6-a90c-c7163685683e",
   "metadata": {},
   "outputs": [],
   "source": [
    "tfidf_vectorizer = TfidfVectorizer()\n",
    "tfidf_matrix = tfidf_vectorizer.fit_transform(df_res2['abstract'])\n",
    "\n",
    "k = 2  # Количество кластеров (0 и 1)\n",
    "kmeans = KMeans(n_clusters=k)\n",
    "kmeans.fit(tfidf_matrix)\n",
    "\n",
    "df_res2['predicted_check'] = kmeans.labels_\n",
    "df_res2['predicted_check'] = df_res2['predicted_check'].apply(lambda x: 1 if x == 0 else 0)"
   ]
  },
  {
   "cell_type": "code",
   "execution_count": 15,
   "id": "c8ddd73a-31f6-4c88-a6cb-696d069326e5",
   "metadata": {},
   "outputs": [
    {
     "data": {
      "text/plain": [
       "0.9080796137937536"
      ]
     },
     "execution_count": 15,
     "metadata": {},
     "output_type": "execute_result"
    }
   ],
   "source": [
    "accuracy_score(df_res2['check'], df_res2['predicted_check'])"
   ]
  },
  {
   "cell_type": "code",
   "execution_count": 40,
   "id": "34a10bc0-1b01-49f4-b93a-0092cf9e77d6",
   "metadata": {
    "tags": []
   },
   "outputs": [],
   "source": [
    "false_positive = pd.DataFrame(columns=['abstract', 'check', 'predicted_check'])\n",
    "\n",
    "# проходимся по строкам исходного датафрейма\n",
    "# for index, row in df_res2.iterrows():\n",
    "#     if row['predicted_check'] == 1 and row['check'] == 0:\n",
    "#         false_positive = false_positive.append({'abstract': row['abstract'],\n",
    "#                                                 'check': row['check'],\n",
    "#                                                 'predicted_check': row['predicted_check']}, \n",
    "#                                                 ignore_index=True)\n",
    "#len(false_positive)"
   ]
  },
  {
   "cell_type": "code",
   "execution_count": 41,
   "id": "e1c19020-5540-4b55-b11f-33803327d53b",
   "metadata": {
    "tags": []
   },
   "outputs": [],
   "source": [
    "true_positive = pd.DataFrame(columns=['abstract', 'check', 'predicted_check'])\n",
    "\n",
    "# проходимся по строкам исходного датафрейма\n",
    "# for index, row in df_res2.iterrows():\n",
    "#     if row['predicted_check'] == 0 and row['check'] == 0:\n",
    "#         true_positive = true_positive.append({'abstract': row['abstract'],\n",
    "#                                                 'check': row['check'],\n",
    "#                                                 'predicted_check': row['predicted_check']}, \n",
    "#                                                 ignore_index=True)\n",
    "# len(true_positive)"
   ]
  },
  {
   "cell_type": "code",
   "execution_count": 42,
   "id": "a3495540-a572-4173-8b7a-9dfc8b5b14c2",
   "metadata": {},
   "outputs": [],
   "source": [
    "false_positive.to_csv('false_positive_kmeans.csv', index=False)"
   ]
  },
  {
   "cell_type": "code",
   "execution_count": 43,
   "id": "4402445d-9d06-4c44-92d9-3eb6dbb62f45",
   "metadata": {
    "tags": []
   },
   "outputs": [],
   "source": [
    "false_negative = pd.DataFrame(columns=['abstract', 'check', 'predicted_check'])\n",
    "\n",
    "# # проходимся по строкам исходного датафрейма\n",
    "# for index, row in df_res2.iterrows():\n",
    "#     if row['predicted_check'] == 0 and row['check'] == 1:\n",
    "#         false_positive = false_positive.append({'abstract': row['abstract'],\n",
    "#                                                 'check': row['check'],\n",
    "#                                                 'predicted_check': row['predicted_check']}, \n",
    "#                                                 ignore_index=True)\n",
    "# len(false_negative)"
   ]
  },
  {
   "cell_type": "code",
   "execution_count": 49,
   "id": "c7eb0605-847a-42dd-913e-9237498b4dc3",
   "metadata": {},
   "outputs": [],
   "source": [
    "false_negative.to_csv('false_negative_kmeans.csv', index=False)"
   ]
  },
  {
   "cell_type": "code",
   "execution_count": 44,
   "id": "fd1bcef7-56cb-49c3-8417-80b228984050",
   "metadata": {},
   "outputs": [],
   "source": [
    "true_negative = pd.DataFrame(columns=['abstract', 'check', 'predicted_check'])\n",
    "\n",
    "# # проходимся по строкам исходного датафрейма\n",
    "# for index, row in df_res2.iterrows():\n",
    "#     if row['predicted_check'] == 1 and row['check'] == 1:\n",
    "#         true_negative = true_negative.append({'abstract': row['abstract'],\n",
    "#                                                 'check': row['check'],\n",
    "#                                                 'predicted_check': row['predicted_check']}, \n",
    "#                                                 ignore_index=True)\n",
    "# len(true_negative)"
   ]
  },
  {
   "cell_type": "code",
   "execution_count": null,
   "id": "43573ceb-300c-433c-adf7-9cd87c878607",
   "metadata": {},
   "outputs": [],
   "source": []
  }
 ],
 "metadata": {
  "kernelspec": {
   "display_name": "Python 3 (ipykernel)",
   "language": "python",
   "name": "python3"
  },
  "language_info": {
   "codemirror_mode": {
    "name": "ipython",
    "version": 3
   },
   "file_extension": ".py",
   "mimetype": "text/x-python",
   "name": "python",
   "nbconvert_exporter": "python",
   "pygments_lexer": "ipython3",
   "version": "3.8.10"
  }
 },
 "nbformat": 4,
 "nbformat_minor": 5
}
