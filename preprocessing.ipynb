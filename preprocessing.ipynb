{
 "cells": [
  {
   "cell_type": "markdown",
   "id": "6b024095-e8e9-4416-a34f-e6589ef42add",
   "metadata": {},
   "source": [
    "## Работа с данными"
   ]
  },
  {
   "cell_type": "code",
   "execution_count": 1,
   "id": "3c4b0741-6c15-43a4-8f44-bc93796d84c3",
   "metadata": {},
   "outputs": [],
   "source": [
    "import os\n",
    "import csv\n",
    "import pandas as pd\n",
    "from langdetect import detect\n",
    "import re"
   ]
  },
  {
   "cell_type": "markdown",
   "id": "8087a3c4-7b08-4b9e-b367-02300e0dc1b4",
   "metadata": {},
   "source": [
    "Сравниваю датасет openalex, скаченный и почищенный Г.А.Морозом, и свой датасет, собранный через скрипт R, выбираем оттуда удаленные аннотации"
   ]
  },
  {
   "cell_type": "code",
   "execution_count": 17,
   "id": "156a117f-7a7c-4531-baf8-37fda3fa2e8a",
   "metadata": {
    "tags": []
   },
   "outputs": [
    {
     "name": "stdout",
     "output_type": "stream",
     "text": [
      "132433\n"
     ]
    }
   ],
   "source": [
    "directory = \"openalex\"\n",
    "direct_new = 'openalex_new'\n",
    "old = os.listdir(directory)\n",
    "new = os.listdir(direct_new)\n",
    "rows_to_move = []\n",
    "for d in old:\n",
    "    if d in new:\n",
    "        file = os.listdir(f'openalex/{d}')\n",
    "        file_new = os.listdir(f'openalex_new/{d}')\n",
    "        with open(f'openalex/{d}/{file[0]}', 'r') as csv_file:\n",
    "            csv_reader = csv.DictReader(csv_file)\n",
    "            for row in csv_reader:\n",
    "                if not row['abstract']:          # если ячейка аннотации пуста, значит она была некачественная\n",
    "                    try:\n",
    "                        rows_to_move.append(row['id'])\n",
    "                    except KeyError:\n",
    "                        break\n",
    "print(len(rows_to_move))"
   ]
  },
  {
   "cell_type": "code",
   "execution_count": 3,
   "id": "f4f794f2-4d66-4bfb-a63c-4e58ebf57cd8",
   "metadata": {
    "collapsed": true,
    "jupyter": {
     "outputs_hidden": true
    },
    "tags": []
   },
   "outputs": [
    {
     "name": "stdout",
     "output_type": "stream",
     "text": [
      "['https://openalex.org/W2976748684', 'https://openalex.org/W2975215321', 'https://openalex.org/W2976407419', 'https://openalex.org/W2996282745', 'https://openalex.org/W2994820132', 'https://openalex.org/W2952743258', 'https://openalex.org/W2976313432', 'https://openalex.org/W4244468353', 'https://openalex.org/W4280571655', 'https://openalex.org/W2953175165', 'https://openalex.org/W2975075108', 'https://openalex.org/W2996519368', 'https://openalex.org/W3048338282', 'https://openalex.org/W3084874087', 'https://openalex.org/W3093761849', 'https://openalex.org/W3121372271', 'https://openalex.org/W3122277459', 'https://openalex.org/W3182255001', 'https://openalex.org/W3202005375', 'https://openalex.org/W4200461446', 'https://openalex.org/W4205324276', 'https://openalex.org/W4206945945', 'https://openalex.org/W4220791381', 'https://openalex.org/W4220870651', 'https://openalex.org/W4226354590', 'https://openalex.org/W4226409572', 'https://openalex.org/W4236836299', 'https://openalex.org/W4239042149', 'https://openalex.org/W4240362744', 'https://openalex.org/W4241583917', 'https://openalex.org/W4242844863', 'https://openalex.org/W4242894056', 'https://openalex.org/W4245085071', 'https://openalex.org/W4252640262', 'https://openalex.org/W4254396562', 'https://openalex.org/W4282963818', 'https://openalex.org/W4283030202', 'https://openalex.org/W4311156957', 'https://openalex.org/W4327622836', 'https://openalex.org/W4255618883', 'https://openalex.org/W2039803786', 'https://openalex.org/W2083310319', 'https://openalex.org/W1972372543', 'https://openalex.org/W2327870109', 'https://openalex.org/W1994923061', 'https://openalex.org/W2979253662', 'https://openalex.org/W1970417096', 'https://openalex.org/W2031405412', 'https://openalex.org/W2063431083', 'https://openalex.org/W1981587051']\n"
     ]
    }
   ],
   "source": [
    "print(rows_to_move[:50])"
   ]
  },
  {
   "cell_type": "markdown",
   "id": "409fb1fa-c378-4780-8bbb-83c289f0ee46",
   "metadata": {},
   "source": [
    "Записываем их в отдельный датасет."
   ]
  },
  {
   "cell_type": "code",
   "execution_count": 21,
   "id": "7eeafdc6-8cd8-40fb-8657-80ed0e77de7e",
   "metadata": {},
   "outputs": [],
   "source": [
    "directory = \"openalex\"\n",
    "direct_new = 'openalex_new'\n",
    "old = os.listdir(directory)\n",
    "new = os.listdir(direct_new)\n",
    "for d in new:\n",
    "    if d in old:\n",
    "        file_new = os.listdir(f'openalex_new/{d}')\n",
    "        with open(f'openalex_new/{d}/{file_new[0]}', 'r') as csv2_file:\n",
    "            csv2_reader = csv.DictReader(csv2_file)\n",
    "            with open('output_del.csv', 'a', newline='') as out_file:\n",
    "                fieldnames = csv2_reader.fieldnames\n",
    "                csv_writer = csv.DictWriter(out_file, fieldnames=fieldnames)\n",
    "                csv_writer.writeheader()\n",
    "                for row in csv2_reader:\n",
    "                    if row['id'] in rows_to_move:\n",
    "                        csv_writer.writerow(row)"
   ]
  },
  {
   "cell_type": "markdown",
   "id": "4a1fcc70-712e-4dee-b492-df67e9c3382a",
   "metadata": {},
   "source": [
    "Теперь сравниваем датасеты и выбираем уже новые аннотации, которые появились"
   ]
  },
  {
   "cell_type": "code",
   "execution_count": 5,
   "id": "ba7e8419-18c2-4af4-8367-ef9305abb891",
   "metadata": {},
   "outputs": [
    {
     "name": "stdout",
     "output_type": "stream",
     "text": [
      "CONCENTRIC\n",
      "ESTUDIOS DE FONETICA EXPERIMENTAL\n",
      "HRVATSKI DIJALEKTOLOSKI ZBORNIK\n",
      "JOURNAL OF THE INTERNATIONAL COUNCIL OF ONOMASTIC SCIENCE\n",
      "QUADERNS DE FILOLOGIA\n",
      "ZEITSCHRIFT FГњR DIALEKTOLOGIE UND LINGUISTIK\n",
      "ZEITSCHRIFT FГњR GERMANISTISCHE LINGUISTIK\n"
     ]
    }
   ],
   "source": [
    "directory = \"openalex\"\n",
    "direct_new = 'openalex_new'\n",
    "old = os.listdir(directory)\n",
    "new = os.listdir(direct_new)\n",
    "for d in new:\n",
    "    if d not in old:\n",
    "        print(d)"
   ]
  },
  {
   "cell_type": "code",
   "execution_count": 6,
   "id": "712e5415-d312-4872-804f-01097706b646",
   "metadata": {
    "tags": []
   },
   "outputs": [
    {
     "name": "stdout",
     "output_type": "stream",
     "text": [
      "8337\n",
      "['https://openalex.org/W4377983438', 'https://openalex.org/W4379520738', 'https://openalex.org/W4379520763', 'https://openalex.org/W4380323563', 'https://openalex.org/W4380481457', 'https://openalex.org/W4385461748', 'https://openalex.org/W4385719547', 'https://openalex.org/W4385724970', 'https://openalex.org/W4385725340', 'https://openalex.org/W4385952441', 'https://openalex.org/W4386161502', 'https://openalex.org/W4389307715', 'https://openalex.org/W4389308171', 'https://openalex.org/W4386526679', 'https://openalex.org/W4386835821', 'https://openalex.org/W4389608090', 'https://openalex.org/W4389608091', 'https://openalex.org/W4380488118', 'https://openalex.org/W4384926823', 'https://openalex.org/W4376874244', 'https://openalex.org/W4377693550', 'https://openalex.org/W4380885877', 'https://openalex.org/W4381382067', 'https://openalex.org/W4381435041', 'https://openalex.org/W4386768603', 'https://openalex.org/W4386820177', 'https://openalex.org/W4387531215', 'https://openalex.org/W4387539324', 'https://openalex.org/W4387610061', 'https://openalex.org/W4387782254']\n"
     ]
    }
   ],
   "source": [
    "new_ids = []\n",
    "for d in old:\n",
    "    if d in new:\n",
    "        file_new = os.listdir(f'openalex_new/{d}')\n",
    "        file = os.listdir(f'openalex/{d}')\n",
    "        df1 = pd.read_csv(f'openalex_new/{d}/{file_new[0]}')\n",
    "        df2 = pd.read_csv(f'openalex/{d}/{file[0]}')\n",
    "        try:\n",
    "            for id_value in df1['id']:\n",
    "    # Проверяем, есть ли текущий id в колонке id второго файла\n",
    "                if id_value not in df2['id'].values:\n",
    "        # Если id не найден, добавляем его в список new_ids\n",
    "                    new_ids.append(id_value)\n",
    "        except KeyError:\n",
    "            continue\n",
    "print(len(new_ids))\n",
    "print(new_ids[:30])"
   ]
  },
  {
   "cell_type": "markdown",
   "id": "4ce7593e-f7bc-4048-9441-0db0f1e91c01",
   "metadata": {},
   "source": [
    "Записываем новые аннотации также в отдельный файл"
   ]
  },
  {
   "cell_type": "code",
   "execution_count": 22,
   "id": "b5aabd4e-6e4c-44b4-b6d8-946681616991",
   "metadata": {},
   "outputs": [],
   "source": [
    "new = os.listdir('openalex_new')\n",
    "with open('output_new.csv', 'a', newline='') as outputnew_file:\n",
    "    fieldnames = csv_reader.fieldnames\n",
    "    csv_writer = csv.DictWriter(outputnew_file, fieldnames=fieldnames)\n",
    "    csv_writer.writeheader()\n",
    "    for d in new:\n",
    "        if d in old:\n",
    "            file_new = os.listdir(f'openalex_new/{d}')\n",
    "            with open(f'openalex_new/{d}/{file_new[0]}', 'r') as csv2_file:\n",
    "                csv_reader = csv.DictReader(csv2_file)\n",
    "                for row in csv_reader:\n",
    "                    if row['id'] in new_ids:\n",
    "                        csv_writer.writerow(row)"
   ]
  },
  {
   "cell_type": "markdown",
   "id": "00f8fb7c-a292-4bb4-9f93-13dcacfa622c",
   "metadata": {},
   "source": [
    "(Здесь я просто убирала случайно попавшие header)"
   ]
  },
  {
   "cell_type": "code",
   "execution_count": 23,
   "id": "68b54b91-7013-46e5-9f81-131581d5c864",
   "metadata": {},
   "outputs": [],
   "source": [
    "with open('output_del.csv', 'r', newline='') as file_in, open('output_del2.csv', 'w', newline='') as file_out:\n",
    "    reader = csv.DictReader(file_in)\n",
    "    fieldnames = reader.fieldnames\n",
    "    writer = csv.DictWriter(file_out, fieldnames=fieldnames)\n",
    "    writer.writeheader()\n",
    "\n",
    "    for row in reader:\n",
    "        if 'title' not in row['title']:\n",
    "            writer.writerow(row)"
   ]
  },
  {
   "cell_type": "markdown",
   "id": "04d0d184-c881-4a0d-bf5b-d15e5232ad6e",
   "metadata": {},
   "source": [
    "Далее я решила проанализировать аннотации: посмотреть, какие попали в удаленные, какие в новые. Заодно почистить их от слова abstract."
   ]
  },
  {
   "cell_type": "code",
   "execution_count": 2,
   "id": "c23d006e-58ef-4d4f-b320-23f7a80a5b87",
   "metadata": {},
   "outputs": [],
   "source": [
    "class AbstractClassifier:\n",
    "    def __init__(self):\n",
    "        self.should_delete = {}\n",
    "        self.normal = {}\n",
    "\n",
    "    def classify_abstracts(self, input_file):\n",
    "        with open(input_file, 'r', newline='') as file_in:\n",
    "            count = 0\n",
    "            reader = csv.DictReader(file_in)\n",
    "            for row in reader:\n",
    "                abstract = row['abstract']\n",
    "                if abstract == \"NA\":\n",
    "                    count+=1 # Если содержимое отсутствует, пропускаем\n",
    "                    continue\n",
    "                \n",
    "                try:\n",
    "                    lang = detect(abstract)\n",
    "                    if lang != 'en':\n",
    "                        self.should_delete[row['id']] = abstract\n",
    "                    else:\n",
    "                        self.normal[row['id']] = abstract\n",
    "                except:\n",
    "                    pass\n",
    "            return count\n",
    "\n",
    "    def clean_abstracts(self):\n",
    "        for id, abstract in self.normal.items():\n",
    "            if abstract.startswith('Abstract'):\n",
    "                cleaned_abstract = re.sub(r'^Abstract', '', abstract).strip()\n",
    "                self.normal[id] = cleaned_abstract\n",
    "        for id, abstract in self.should_delete.items():\n",
    "            if abstract.startswith('Abstract'):\n",
    "                cleaned_abstract = re.sub(r'^Abstract', '', abstract).strip()\n",
    "                self.should_delete[id] = cleaned_abstract"
   ]
  },
  {
   "cell_type": "code",
   "execution_count": 28,
   "id": "d725fe5d-4fcd-42f4-bf23-c3e7fe614941",
   "metadata": {},
   "outputs": [
    {
     "name": "stdout",
     "output_type": "stream",
     "text": [
      "89365\n"
     ]
    }
   ],
   "source": [
    "classifier = AbstractClassifier()\n",
    "print(classifier.classify_abstracts('output_del2.csv'))\n",
    "classifier.clean_abstracts()"
   ]
  },
  {
   "cell_type": "code",
   "execution_count": 25,
   "id": "988ac9d1-8ab4-4e8f-88bd-fb8239d734bb",
   "metadata": {
    "collapsed": true,
    "jupyter": {
     "outputs_hidden": true
    },
    "tags": []
   },
   "outputs": [
    {
     "name": "stdout",
     "output_type": "stream",
     "text": [
      "7317\n",
      "[('https://openalex.org/W2083310319', \"La notion de « verbe auxiliaire » est familière à ceux qui ont la pratique d'une langue occidentale moderne, et elle fait partie de la nomenclature grammaticale dans l'enseignement traditionnel. Mais il en est de cette notion comme de tant d'autres qu'une certaine accoutumance nous empêche de bien voir dans leur importance et leur singularité. Il s'agit d'une forme linguistique unitaire qui se réalise, à travers des paradigmes entiers, en deux éléments, dont chacun assume une partie des fonctions grammaticales, et qui sont à la fois liés et autonomes, distincts et complémentaires.\"), ('https://openalex.org/W2039803786', \"Les caractères typologiques de la conjugaison du verbe kiranti sont examinés. Ensuite, l'auteur aborde le problème historique de la position de flexion en tibéto-birman et présente une analyse morphologique du verbe simple du lohorung, langue de l'Himalaya jadis inconnue. Enfin, le modèle du verbe proto-kiranti avancé par l'auteur en 1988 en Suède est réévalué à la lumière de la morphologie verbale du lohorung.\"), ('https://openalex.org/W1994923061', \"Le but immédiat de cet article 1 L'article qui va suivre est essentiellement une paraphrase de la troisième partie d'un manuscrit («Notes on the Phonological Role of the Feature Tenseness in the Modern French Vowel System») que nous avons rédigé pendant notre séjour sémestriel à l'Université de Vincennes (Paris VIII) au printemps de 1973. Nous sommes très reconnaissant à François Dell et à Lisa Selkirk pour plusieurs discussions utiles que nous avons eues avec eux pendant ce séjour. Nous avons aussi échangé des points de vue sur des manuscrits de l'un et de l'autre, et la critique dirigée contre nous a rendu plus claire notre formulation de bien de points débattus ici. Nous devons également des remerciements sincères à nos collègues Niels Ege, El Fischer-Jørgensen, Jørgen Rischel et Oluf Thorsen qui ont bien voulu lire notre manuscrit et nous proposer des modifications, ainsi qu'à Catherine Høgsbro Holm pour des suggestions stylistiques. est celui d'expliquer les alternances entre les voyelles ε et schwa (“e caduc„) en français moderne, dans le cadre théorique de la phonologie générative. 2 Nous tenons à préciser que nous considérons le cadre génératif comme un modèle purement descriptif qui, à notre avis, constitue un supplément très utile aux méthodes structuralistes (où la notion de contraste est essentielle). Par conséquent, nous ne souscrirons pas à la croyance assez répandue chez les générativistes que leurs modèles seraient en principe des miroirs de la compétence linguistique chez le parleur-auditeur idéal. Ces questions de nature psychologique sont très importantes, mais nous ne trouvons pas les méthodes de la grammaire générative bien aptes à les résoudre, comp. Derwing 1973 et Linell 1974. Comme exemples de ces alternances, on peut considérer les formes de certains verbes de la première conjugaison (appelle, appeler, appelions, appellerait, appellerions apεl, aple, , apεlrε, ], etc.) et certaines formes dérivées de mots en [s] (duvet, duveter, duveteux; cuiller, cuillerée [dyvε, dyvte, dyvtø; , ], etc.)\"), ('https://openalex.org/W2063431083', 'Obwohl deutsche und dänische Adjektive der traditionellen Anschauung nach eine Bestimmtheitsflexion haben, so sind die Ähnlichkeiten oberflächlich. Während es sich im Dänischen um eine echte Beugung des Adjektivs mit der dazugehörigen Inhaltsgröße Bestimmtheit handelt, sind deutsche Nominalgruppen als Ganze als [±definit] markiert — wobei die Adjektive gelegentlich an dieser Markierung mitwirken, gelegentlich aber auch nicht. Die schwache Flexion ist der reine Nominalgruppenkitt. Ein Vergleich mit anderen germanischen Sprachen und früheren Sprachstufen zeigt, dass Deutsch und Dänisch verschiedenen diachronischen Entwicklungstypen gefolgt sind. Nebenher wird der Mythos der ,gemischten Adjektivbeugung ‘im Deutschen endgültig abgeschafft.'), ('https://openalex.org/W2039670978', \"L'analyse phrastique formalise un travail spécifique dans l'espace linguistique; il faut penser ce travail dans le graphe d'une topologie spécifiant en effet la phrasticité avec ses connexions et ses limites à l'intérieur de cet espace. D'autre part, l'espace objectif linguistique est impensable en dehors d'un espace objectif sémiotique qui l'englobe: le modèle théorique pour être pertinent doit être un modèle sémiotique (exposant le «signe» à toutes ses dimensions) avant de devenir programme d'une linguistique (exposant la distribution des composantes à analyser). En tant que sémiotique, le modèle, doit rendre compte du travail total qui produit le texte; si cette productivité est conçue comme un ensemble organisé de pratiques (récursives), donc de cellules ayant la forme: alors le «signe», c'est-à-dire le modèle topologique exposant le travail total du texte, peut prendre la forme d'un complexe de pratiques spécifiques en connexion:\"), ('https://openalex.org/W2027952958', 'Bei dem Ersatzinfinitiv (IPP) im Deutschen ersetzt ein Infinitiv ein Partizip Perfekt bei der Bildung eines Perfekttempus. Der IPP ist bei Modalverben mit einem reinen Infinitiv obligatorisch, aber darüber hinaus treten in vielen Fällen Schwankungen auf. Innerhalb der Klasse der Modalverben schwankt der Gebrauch bei Fügungen mit einer Direktionalergänzung (er hat ins Krankenhaus gemusst/müssen). Ziel dieses Aufsatzes ist es, diese Schwankung zu erklären. Auf dem Hintergrund einer Analyse der Syntax und Semantik der Fügung Modalverb + Direktionalergänzung wird die Schwankung als ein Wettbewerb zwischen kategorialen und funktionalen Eigenschaften erklärt. Bei der Kernkonstruktion des IPPs ist das Komplement des Modalverbs ein prädikatives Komplement (ein Komplement, dem das Letztargument fehlt) in der Form eines Infinitivs. Bei dem Modalverb mit Direktionalergänzung ist das Komplement ebenfalls ein prädikatives Komplement, jedoch in der Form einer PP, einer ADVP oder einer Partikel. Schwankungen bei der Perfektbildung treten deshalb auf, weil für einige Sprecher die kategorialen Merkmale (ein Infinitivkomplement), für andere die funktionalen Merkmale (ein Prädikativkomplement) für die Verwendung des IPPs ausschlaggebend sind. Die Analyse spricht mithin für ein syntaktisches Modell, das kategoriale und funktionale Information als zwei parallele Dimensionen der syntaktischen Beschreibung unterstützt.* An dieser Stelle sei den Gutachtern von ACTA für wertvolle Hinweise und Verbesserungsvorschläge gedankt. Ein besonderer Dank gebührt Jörg Asmussen für eine Diskussion der Beispiele und für sprachliche Anmerkungen zum Manuskript. Gleichzeitig sei allen Informanten — die manchmal nicht einmal wussten, dass sie als Informanten auftraten — anonymerweise gedankt. Für alle noch vorhandenen Fehler und Unzulänglichkeiten bin alleine ich verantwortlich.'), ('https://openalex.org/W2037423449', \"Notre attention avait été attirée par l'article de A. Dauzat intitulé « L'expression de l'intensité par la comparaison » (Français moderne XIII, 1945, p. 169-186). Il y est fait une rectification très pertinente au sujet des degrés d'intensité et des degrés de comparaison: le « superlatif relatif » est justement ramené à un cas particulier du comparatif.\"), ('https://openalex.org/W1993461103', \"Les années 1928–29 et 1932–33 sont deux dates décisives dans l'histoire de la linguistique structurale. Du 10 au 15 avril 1928 s'est tenu à la Haye le premier congrès des linguistes, congrès où deux cercles linguistiques se sont manifestés par des propositions collectives: le Cercle Linguistique de Prague (Jakobson, Karcevski, Troubetzkoy) et le groupe de Genève, formé des élèves de Saussure (Bally et Séchehaye). En 1928 ont paru trois manifestes grammaticaux importants: Les Parties du Discours de Viggo Brøndal, Neuaufbau der Grammatik de Theodor Kalepky, et Principes de Grammaire Générale de Louis Hjelmslev; puis, en 1929 ont paru les deux premiers volumes des Travaux du Cercle Linguistique de Prague.\"), ('https://openalex.org/W2517614707', \"L'article de M. Lerch sur ce sujet (Acta Linguistica Hafniensia:International Journal of Linguistics I, p. 145 ss.) m'a suggere de nombreuses reflexions, dont j'aimerais exposer ici les principales.\"), ('https://openalex.org/W2313373055', 'Extract 0. Vergleiche zwischen verschiedenen linguistischen theorien sind insofern sinnvoll, als ihr ergebnis entweder die feststellung von äquivalenz oder die feststellung von nichtäquivalenz sein könnte. Auf grund solcher vergleiche liesse sich dann bestimmen, in welchem umfang eine theorie A die linguistischen empirischen daten adäquater beschreiben und erklären kann als eine theorie B.')]\n",
      "33898\n",
      "[('https://openalex.org/W2976748684', \"After comments with laudatory and clarifying intent on the Chomskyan revolution, I make some critical remarks on Eörs Szathmáry's views on the evolution of language and its relation to the brain. This is followed by a brief sketch of the theory of one-dimensional syntax in the biolinguistic context, leading to the conclusion that the item-organizing specificity of human language may not be due to a qualitative change in narrow syntactic ability. This unique property may instead be a consequence of the possession of an interpretive module capable of parallel processing of numerous simple one-dimensional syntactic structures – which individually have no more configurational complexity than birdsong.\"), ('https://openalex.org/W2976407419', 'This paper gives a broad overview of the ideas underlying the Chomskyan approach to linguistics. It identifies the main innovation of generative grammar in linguistics and clarifies some recurring misunderstandings about the language faculty, recursion and language universals. The paper also discusses some of the main empirical results of generative syntax.'), ('https://openalex.org/W2975215321', 'The paper reviews the role of Noam Chomsky in the conceptual changes in modern psychology that are described by many as the cognitive revolution. Several aspects of the work of Chomsky are identified as key elements in the changes regarding the human mind, and the determinants of human nature. The mentalism of Chomsky resulted in the general spread of theory theories about human development, where the human mind is interpreted as a theory-using open, creative system. The peculiarities of sequential behavioral organization and later the sequential interface issues as well as the concentration on (syntactic) pure form were important inspirations for several general theories of human cognition. Chomsky, with his differentiation between competence and performance, opened the road along with David Marr to multilayered computational theories of the mind. While the innatist commitments of Chomsky regarding human development created many fruitful controversies during half a century, they also tied the underdetermined nature of human language with the philosophical issues of freedom. Language with its innate recursive system is a basic factor of human freedom. Freedom is connected to a rational image of humanity.'), ('https://openalex.org/W2952743258', 'Contemporary Chinese has only one form of first-person pronoun; by contrast, there are at least four different first-person pronominal forms used in Classical Chinese. This makes Classical Chinese first-person pronouns noteworthy to investigate. This co-existence of forms with similar meaning of self-referencing raises two issues, namely the reason behind this co-existence and the relationships among these pronominal forms in terms of sociopragmatic use. Unlike what has been previously argued in the field that address forms rather than pronouns are politeness-related (e.g., Kádár 2007; Pan & Kádár 2011), first-person pronominal forms in Classical Chinese express a diverse set of contextually-situated politeness-related meanings. Furthermore, these pronominal forms are socially indexical, in the sense that they are allocated to speakers depending on their social status. Thus, a central argument of this paper is that the pronominal forms studied reveal information about both the person who uses them and the context in which they are used. The paper compares pronominal forms used in the Lunyu 論語 or The analects of Confucius (475 BC–221 BC) and Shishuo Xinyu 世說新語 (A new account of the tales of the world) (200 AD–400 AD), to understand the pragmatic implications and politeness values of these different first-person pronominal forms over a time-span of 400–600 years and also to provide a glimpse of how eventually only one form came to exist in contemporary Chinese.'), ('https://openalex.org/W2976313432', '\"Norbert Hornstein, Howard Lasnik, Pritty Patel-Grosz and Charles Yang (eds.): Syntactic Structures after 60 years. The impact of the Chomskyan revolution in linguistics\" published on Sep 2019 by Akadémiai Kiadó.'), ('https://openalex.org/W4206945945', 'There can be numerous reasons for change in scientific theories. For example, the elaboration or introduction of new methods may provide new data, but it also makes possible the re-evaluation of previous research results, which may have theoretical consequences and, in the end, the emergence of a new model in the field of research. Yet it is also possible that certain problems lead to a theoretical transformation of certain parts of the dominant theoretical paradigm. The book under review fits into the latter line, when with the past forty years of cognitivist metaphor research in the backpack, the author, Zoltán'), ('https://openalex.org/W4255618883', '0. I have argued in the course of a discussion of various aspectual distinctions that three underlying adnominal functions be allowed for (Anderson, 1973 a, §4.3.1 ), nom(inative), loc(ative) and abl(ative); and (elsewhere) that the lower predications in a causative construction are similarly dependent on one of these three (cf. Anderson, 1972 a, ch. 6):* This paper is a slightly revised version of part of § 8.4 of my Ph.D. thesis (Anderson, 1972 a), I am grateful to Maureen Clark and Richard Hogg for a number of helpful criticisms. (1) a. Fred tripped me (nom) b. Fred caused me to trip (loc) c. Fred prevented me from tripping (abl)'), ('https://openalex.org/W2327870109', \"In the ultimate chapter of his last and posthumously published work, Dik (1997b) calls for a “functional grammar of discourse”. Whereas Functional Grammar (FG) was originally conceived of as a grammar of smaller units, variously identified in Dik's work as “predications”, “linguistic expressions” and “clauses”, his final contribution to linguistics consisted in a sketch of his views on a question that has been very prominent in FG work in the nineties: what is the relation between clause structure and discourse structure? The fact that the phrase “functional grammar of discourse” can be parsed in two ways reflects the two major answers to this question offered in FG work hitherto. The parsing [functional grammar [of discourse]] invokes various proposals to extend the existing hierarchical framework of FG to cover the structure of discourse; the parsing [functional [grammar of discourse] ], in contrast, suggests that discourse has a structure sui generis, but a structure that is best approached from the general philosophical perspective shared by Functional Grammar, with discourse being linked to grammar at best through some interface.\"), ('https://openalex.org/W1972372543', 'Among language users in the western culture the difference between written and spoken language is not a fundamental issue; after all, the quick note you scribble about getting home late is no different from the same message delivered orally.'), ('https://openalex.org/W4226048369', 'The traditional phoneme analysis of the Danish consonant inventory links onset and coda consonants on the basis of historical alternations and morphologically conditioned alternations within a small subset of the Danish lexicon. This traditional analysis proposes a system resulting in a large number of neutralizations that cannot be dissolved, and in which allophones of the same phoneme lack shared phonetic content. We argue that the system proposed by the traditional analysis is impossible to learn from the language input, which renders the analysis an implausible description of the Danish consonant system. On the basis of theoretical discussions, we offer an alternative phoneme analysis, which we believe to be learnable from the data available in the language input. Our analysis is based on insights from Natural Phonology and Bidirectional Phonetics and Phonology. We propose a system without undissolvable neutralizations, with shared phonetic content between allophones of the same phoneme, and without the need to rely on alternations that children are unlikely to learn in early childhood.')]\n"
     ]
    }
   ],
   "source": [
    "print(len(classifier.should_delete))\n",
    "data = list(classifier.should_delete.items())\n",
    "print(data[:10])\n",
    "print(len(classifier.normal))\n",
    "data2 = list(classifier.normal.items())\n",
    "print(data2[:10])"
   ]
  },
  {
   "cell_type": "code",
   "execution_count": 26,
   "id": "7ea193b7-29f2-4990-84b4-29f3c7bb0bd6",
   "metadata": {
    "collapsed": true,
    "jupyter": {
     "outputs_hidden": true
    },
    "tags": []
   },
   "outputs": [
    {
     "name": "stdout",
     "output_type": "stream",
     "text": [
      "109\n",
      "[('https://openalex.org/W4237108105', '-'), ('https://openalex.org/W4254983859', '-'), ('https://openalex.org/W4250484602', ''), ('https://openalex.org/W4311232101', ''), ('https://openalex.org/W4311232371', ''), ('https://openalex.org/W2026502960', ''), ('https://openalex.org/W4238769462', ''), ('https://openalex.org/W2113080297', ''), ('https://openalex.org/W2321721422', '.'), ('https://openalex.org/W2529079342', '.'), ('https://openalex.org/W2128811406', ''), ('https://openalex.org/W2343468551', ''), ('https://openalex.org/W2080340672', '.'), ('https://openalex.org/W4239614751', ''), ('https://openalex.org/W4242575532', ''), ('https://openalex.org/W2906697591', ''), ('https://openalex.org/W4252515480', ''), ('https://openalex.org/W4231713984', ''), ('https://openalex.org/W4248091307', ''), ('https://openalex.org/W2001038922', '??? ??? ???'), ('https://openalex.org/W1510704614', ''), ('https://openalex.org/W1500378219', ''), ('https://openalex.org/W1501222460', ''), ('https://openalex.org/W1572347785', ''), ('https://openalex.org/W1481083888', ''), ('https://openalex.org/W1899246077', ''), ('https://openalex.org/W2310004789', ''), ('https://openalex.org/W49507349', ''), ('https://openalex.org/W1557971631', ''), ('https://openalex.org/W4321267408', ''), ('https://openalex.org/W4321267413', ''), ('https://openalex.org/W119768576', ''), ('https://openalex.org/W152704420', ''), ('https://openalex.org/W1528922166', ''), ('https://openalex.org/W1568168867', ''), ('https://openalex.org/W1596187461', ''), ('https://openalex.org/W1604785464', ''), ('https://openalex.org/W1658648007', ''), ('https://openalex.org/W189192520', ''), ('https://openalex.org/W936737584', ''), ('https://openalex.org/W1564020610', ''), ('https://openalex.org/W1903988995', ''), ('https://openalex.org/W1931266353', ''), ('https://openalex.org/W1831359292', ''), ('https://openalex.org/W142220334', ''), ('https://openalex.org/W1481061147', ''), ('https://openalex.org/W2160106793', ''), ('https://openalex.org/W2211751258', ''), ('https://openalex.org/W2222152892', ''), ('https://openalex.org/W2278100116', ''), ('https://openalex.org/W2341465895', ''), ('https://openalex.org/W3172487605', ''), ('https://openalex.org/W3173057646', ''), ('https://openalex.org/W2111820630', ''), ('https://openalex.org/W3170754912', ''), ('https://openalex.org/W1578545977', ''), ('https://openalex.org/W173804198', ''), ('https://openalex.org/W1519361723', ''), ('https://openalex.org/W1526630609', ''), ('https://openalex.org/W1530659899', ''), ('https://openalex.org/W1539359961', ''), ('https://openalex.org/W1562996179', ''), ('https://openalex.org/W1566755371', ''), ('https://openalex.org/W1571021873', ''), ('https://openalex.org/W1590519701', ''), ('https://openalex.org/W1599655108', ''), ('https://openalex.org/W1822064359', ''), ('https://openalex.org/W184672207', ''), ('https://openalex.org/W1947786084', ''), ('https://openalex.org/W198393461', ''), ('https://openalex.org/W2133128583', ''), ('https://openalex.org/W2245791735', ''), ('https://openalex.org/W2336375531', ''), ('https://openalex.org/W2336531365', ''), ('https://openalex.org/W2343884467', ''), ('https://openalex.org/W3167675669', ''), ('https://openalex.org/W3172191080', ''), ('https://openalex.org/W3173129739', ''), ('https://openalex.org/W4295743212', ''), ('https://openalex.org/W4299126336', ''), ('https://openalex.org/W1479674344', ''), ('https://openalex.org/W1572741926', ''), ('https://openalex.org/W1931501952', ''), ('https://openalex.org/W3167024773', ''), ('https://openalex.org/W616004928', ''), ('https://openalex.org/W1526764910', ''), ('https://openalex.org/W2129032465', ''), ('https://openalex.org/W1558733490', ''), ('https://openalex.org/W2113689796', ''), ('https://openalex.org/W3170922443', ''), ('https://openalex.org/W4301465535', ''), ('https://openalex.org/W67437443', ''), ('https://openalex.org/W4242939785', ''), ('https://openalex.org/W875917605', ''), ('https://openalex.org/W2326246887', ''), ('https://openalex.org/W2561589575', ''), ('https://openalex.org/W1967055968', ''), ('https://openalex.org/W4252871542', ''), ('https://openalex.org/W1981353024', ''), ('https://openalex.org/W4230496075', ''), ('https://openalex.org/W2599497375', ''), ('https://openalex.org/W4234008235', ''), ('https://openalex.org/W4246465458', ''), ('https://openalex.org/W3118122596', ''), ('https://openalex.org/W2900204804', ''), ('https://openalex.org/W2033281906', '.'), ('https://openalex.org/W2023894282', '.'), ('https://openalex.org/W4250968129', ''), ('https://openalex.org/W1793894960', '')]\n"
     ]
    }
   ],
   "source": [
    "weird = {}\n",
    "with open('output_del2.csv', 'r', newline='') as file:\n",
    "    reader = csv.DictReader(file)\n",
    "    for row in reader:\n",
    "        abstract = row['abstract']\n",
    "        if abstract != \"NA\" and row['id'] not in classifier.should_delete.keys() and row['id'] not in classifier.normal.keys():\n",
    "            weird[row['id']] = abstract\n",
    "print(len(weird))\n",
    "lost = list(weird.items())\n",
    "print(lost)"
   ]
  },
  {
   "cell_type": "markdown",
   "id": "c519faee-df90-414d-870f-e7efd45c530e",
   "metadata": {},
   "source": [
    "130689 - всего удаленных в файле\\\n",
    "7317 - на иностранных языках \\\n",
    "33898 - на английском нормальных \\\n",
    "89365 - NA \\\n",
    "109 - пустые, точка, вопросительные знаки"
   ]
  },
  {
   "cell_type": "code",
   "execution_count": 3,
   "id": "1b337799-2549-4c60-bd9a-32182b90dc21",
   "metadata": {},
   "outputs": [
    {
     "name": "stdout",
     "output_type": "stream",
     "text": [
      "2249\n"
     ]
    }
   ],
   "source": [
    "classifier2 = AbstractClassifier()\n",
    "print(classifier2.classify_abstracts('output_new.csv'))\n",
    "classifier2.clean_abstracts()"
   ]
  },
  {
   "cell_type": "code",
   "execution_count": 7,
   "id": "0469d0a8-6bb9-408d-b1fb-8c6d5cc7d25c",
   "metadata": {
    "tags": []
   },
   "outputs": [
    {
     "name": "stdout",
     "output_type": "stream",
     "text": [
      "1374\n",
      "('https://openalex.org/W4387531215', 'RÉSUMÉCet article s’efforce de caractériser la problématique dans laquelle s’inscrit la notion structuraliste de Gesamtbedeutung, à travers une analyse comparée de textes de Hjelmslev, Jakobson et Benveniste. Tandis que les élaborations des deux premiers sont fondamentalement comparables, l’élaboration benvenistienne est dotée d’une remarquable singularité. Cette différence, qui rompt l’unité du structuralisme européen, pourtant caractérisé par sa commune mécompréhension de la théorie saussurienne, soulève deux questions importantes et remarquablement corrélatives : celle de la signification et celle du métalangage, qui sont ensuite envisagées à la lumière de la théorisation saussurienne de la langue.MOTS-CLÉS: Valeurfonctionnementsignificationmétalangagepsychanalyse Note sur l’auteurAgrégée de lettres modernes et docteur en linguistique, Anne-Gaëlle Toutain est maître d’enseignement et de recherche habilitée à diriger des recherches en linguistique française synchronique et diachronique et en histoire et épistémologie de la linguistique à l’Institut de langue et de littérature françaises de l’université de Berne. Ses recherches s’inscrivent dans le champ de l’épistémologie de la linguistique et portent en particulier sur la linguistique saussurienne et, dans ce cadre, sur l’articulation entre linguistique et psychanalyse et entre linguistique et biologie (neurolinguistique).Notes1 Jakobson emploie l’expression Gesamtbedeutung, et regrette l’utilisation dans La catégorie des cas de celle de Grundbedeutung, qui lui paraît trop susceptible d’évoquer celle de signification principale (Hauptbedeutung). Hjelmslev insiste pour sa part sur la nécessité de parler de Grundbedeutung ; cette signification, explicative des emplois, est en effet, en tant que telle, abstraite. Voir Hjelmslev (Citation1972a, I, 37 et II, 46, et Citation1971, 124) et Jakobson (Citation1971, 27).2 Elle y apparaît notamment dans le cadre de l’établissement d’un schéma de catégories universel se trouvant au fondement de tout système grammatical, établissement qui se situe dans la lignée de certaines propositions des Principes de grammaire générale (Hjelmslev Citation1928), texte qui serait donc à prendre en considération dans le cadre d’une étude de la constitution de cette notion de Grundbedeutung au fil de l’élaboration hjelmslevienne. C’est cependant, sauf erreur, dans Sprogsystem og sprogforandring qu’elle apparaît pour la première fois. On la retrouve ensuite dans La catégorie des cas (1935/1937; Hjelmslev Citation1972a), puis dans l’« Essai d’une théorie des morphèmes » (1936 ; in Hjelmslev Citation1971), « La structure morphologique » (1939 ; in Hjelmslev Citation1971), « Animé et inanimé, personnel et non-personnel » (1956 ; in Hjelmslev Citation1971) et « Pour une sémantique structurale » (1957 ; in Hjelmslev Citation1971).3 Voir également, cependant, pour ce rejet du psychologisme et du « sentiment linguistique », corrélatif d’une affirmation du caractère purement linguistique de la signification fondamentale, dans Sprogsystem og sprogforandring : Hjelmslev (Citation2016, 105, 112 [Hjelmslev Citation1972b, 93 et 99]).4 Voir la note 1 ci-dessus, ainsi que, par exemple, Jakobson (Citation1971, 546).5 Ainsi, notamment, Jakobson se réfère-t-il également, pour cette notion de signification générale, aux théories médiévales (voir notamment Jakobson Citation1973, 21 et 42–43, Jakobson Citation1985, 194–195, Jakobson Citation1973, 88 [Jakobson Citation1985, 90]) et à Peirce (voir notamment Jakobson Citation1971, 267–268, Jakobson Citation1966, 37 [Jakobson Citation1971, 598], Jakobson Citation1985, 118–119).6 Pour une analyse comparée, voir Sørensen (Citation1949), Vogt (Citation1949), Zilberberg (Citation1988) et Parret (Citation1987, Citation1990, Citation1997).7 Voir également, par exemple, Benveniste (Citation1975, 49, 54, 144 et 168 [l’ensemble du chapitre XI], et 166).8 Cette absence d’élaboration apparaît nettement, par exemple, dans cette affirmation de « Problèmes sémantiques de la reconstruction » : « Dans tous les cas discutés se trouve impliqué un problème de relation, et c’est par les relations qu’est définie une structure sémantique. Le lecteur averti discernera sans doute dans la démarche suivie ici les mêmes préoccupations qui se font jour dans d’autres parties de la linguistique actuelle, et même certaines analogies dans l’objet de la recherche. Les considérations qui précèdent tournent autour d’une même question, qui est l’identification des traits distinctifs par opposition aux variantes : comment définir la distribution et les capacités combinatoires d’un “sens” ; comment un sens tenu pour différent d’un autre peut ne représenter qu’une de ses variantes ; comment la variante d’un sens se “sémantise” à son tour et devient unité distincte, tous problèmes qui se transposeraient immédiatement en termes de phonémique. Mais les notions sémantiques, beaucoup plus complexes, plus difficiles à objectiver et surtout à formaliser, étant engagées dans la “substance” extra-linguistique, appellent d’abord une description des emplois qui seuls permettent de définir un sens. » (Benveniste Citation1966, 307). Auteur d’une élaboration remarquablement singulière dans l’ensemble du structuralisme, Benveniste ne cesse néanmoins de s’inscrire dans ce que l’on pourrait appeler le « paradigme structural ». Cette tension constitutive de son élaboration trouve tout particulièrement à s’exprimer dans les Actes de la conférence européenne de sémantique (1951; voir Benveniste éd., Citations.d. [no year]), en raison des exigences d’une discussion entre interlocuteurs engagés dans des élaborations différentes (dont Hjelmslev).9 Voir par exemple Saussure (Citation2002, 70–71). Il s’agit du manuscrit « De l’essence double du langage » (1891).10 Voir en particulier à cet égard – dans le manuscrit cité dans la note précédente – Saussure (Citation2002, 65), où l’on retrouve l’affirmation d’une singularité de la linguistique dans l’ensemble des sciences, en raison d’un mode d’existence particulier de son objet, qui n’est pas celui des « choses », mais où Saussure oppose moins donné et point de vue, comme dans la citation produite ci-dessus, qu’il ne définit, pour les entités linguistiques, un mode d’existence spécifique, s’opposant à celui des « choses ou entités positives » comme purement négatif et différentiel.11 Cette dialectique de la négativité et de la positivité apparaît de la manière la plus nette dans ce passage souvent cité de « De l’essence double du langage » : « Le phénomène d’intégration (ou de post-méditation)-réflexion est le phénomène double qui résume toute la vie active du langage, et par lequel les signes existants évoquent mécaniquement, par le simple fait de leur présence et de l’état toujours accidentel de leurs différences à chaque moment de la langue, un nombre égal non pas de concepts, mais de valeurs opposées pour notre esprit (tant générales que particulières, les unes appelées par exemple catégories grammaticales, les autres taxées de faits de synonymie, etc.) ; cette opposition de valeurs qui est un fait purement négatif se transforme en fait positif, parce que chaque signe, en évoquant une antithèse avec l’ensemble des autres signes comparables à une époque quelconque, en commençant par les catégories générales et en finissant par les particulières, se trouve être délimité, malgré nous, dans sa valeur propre. » (Saussure Citation2002, 87–88).12 Voir également, dans le troisième cours de linguistique générale, Saussure et Constantin (Citation2005, 285). Ces deux développements des deuxième et troisième cours ont été compilés par les éditeurs du Cours de linguistique générale pour la rédaction du premier paragraphe du quatrième chapitre de la deuxième partie, dont j’emprunte ici le titre, « La langue comme pensée organisée dans la matière phonique ». Voir Saussure (Citation1972, 155–157).13 Voir notamment Saussure et Constantin (Citation2005, 270).14 Voir notamment Arrivé (Citation2008).15 Et c’est pourquoi, soit dit en passant, le changement phonétique est aveugle, ce qui est une autre manière de dire que les unités synchronique et diachronique sont irréductibles, ou que le changement, dans la perspective saussurienne, est synchronique.16 Voir également à cet égard Saussure (Citation1996, 85–86).')\n",
      "4705\n",
      "[('https://openalex.org/W4377983438', \"In this paper, I present a novel corpus investigation of quantified and negated objects in the Middle English and Early Modern English period, which is embedded within the wider language change scenario from linear OV to linear VO in the history of English. It will be shown that evidence for preverbal positioning of such objects is mostly limited to translated texts in Middle English in the PPCME2 corpus, and that by late Middle English, most of the hits consist of negated elements, as shown in the PCEEC corpus, which consists of native texts. The different constraints governing spell out of positive objects in Old English and Middle English are discussed and compared to the licensing of negated and quantified objects. The data provided in this paper constitute further evidence for Ingham's (2000, 2002, 2007) analysis of preposed negated objects in late ME and their correlation with the Negative Cycle, and complement previous investigations on negated and quantified objects in Middle English and Early Modern English.\"), ('https://openalex.org/W4379520738', 'The study claims that contemporary Udmurt has two main strategies for expressing a ‘constituent negation reading’. Standard Udmurt makes use of inverse-scope constructions involving sentential negation, i.e. a morphosyntactically negated predicate and a pragmatic focus in the scope of negation. The other strategy involves the negator ńe borrowed from Russian, which immediately precedes the negated constituent and combines with a predicate in the affirmative form. Ńe-constructions are analysed as instances of focus negation, with a FocP dominated by a right-branching NegP. The evolution of transparent-scope constructions and of a head-initial NegP are analysed as concomitants of the SOV-to-SVO change of Udmurt.')]\n"
     ]
    }
   ],
   "source": [
    "print(len(classifier2.should_delete))\n",
    "data3 = list(classifier2.should_delete.items())\n",
    "print(data3[0])\n",
    "print(len(classifier2.normal))\n",
    "data4 = list(classifier2.normal.items())\n",
    "print(data4[:2])"
   ]
  },
  {
   "cell_type": "code",
   "execution_count": 31,
   "id": "7b1b2ba4-1480-4bd2-915b-6b7cdb07f3e5",
   "metadata": {},
   "outputs": [
    {
     "name": "stdout",
     "output_type": "stream",
     "text": [
      "9\n",
      "[('https://openalex.org/W4283790427', '.'), ('https://openalex.org/W4379800887', ''), ('https://openalex.org/W4379794489', ''), ('https://openalex.org/W4380184549', ''), ('https://openalex.org/W1775895694', ''), ('https://openalex.org/W1620015025', ''), ('https://openalex.org/W4301871406', ''), ('https://openalex.org/W2949549207', ''), ('https://openalex.org/W3035435298', '-')]\n"
     ]
    }
   ],
   "source": [
    "weird_new = {}\n",
    "with open('output_new.csv', 'r', newline='') as file2:\n",
    "    reader2 = csv.DictReader(file2)\n",
    "    for row in reader2:\n",
    "        abstract = row['abstract']\n",
    "        if abstract != \"NA\" and row['id'] not in classifier2.should_delete.keys() and row['id'] not in classifier2.normal.keys():\n",
    "            weird_new[row['id']] = abstract\n",
    "print(len(weird_new))\n",
    "lost_new = list(weird_new.items())\n",
    "print(lost_new)"
   ]
  },
  {
   "cell_type": "markdown",
   "id": "820f972d-7d5c-4d79-9869-26176e758984",
   "metadata": {},
   "source": [
    "8337 - всего новых аннотаций \\\n",
    "2249 - NA \\\n",
    "1378 - на иностранных \\\n",
    "4701 - на английском \\\n",
    "9 - пустые, точки, тире"
   ]
  },
  {
   "cell_type": "code",
   "execution_count": null,
   "id": "83891850-8f0c-40cf-9fb3-a336fef7e74c",
   "metadata": {},
   "outputs": [],
   "source": []
  }
 ],
 "metadata": {
  "kernelspec": {
   "display_name": "Python 3 (ipykernel)",
   "language": "python",
   "name": "python3"
  },
  "language_info": {
   "codemirror_mode": {
    "name": "ipython",
    "version": 3
   },
   "file_extension": ".py",
   "mimetype": "text/x-python",
   "name": "python",
   "nbconvert_exporter": "python",
   "pygments_lexer": "ipython3",
   "version": "3.8.10"
  }
 },
 "nbformat": 4,
 "nbformat_minor": 5
}
